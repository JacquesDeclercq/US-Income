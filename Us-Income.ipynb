{
 "cells": [
  {
   "cell_type": "code",
   "execution_count": 28,
   "metadata": {},
   "outputs": [],
   "source": [
    "import pandas as pd\n",
    "import seaborn as sns\n",
    "import numpy as np\n",
    "import matplotlib.pyplot as plt\n",
    "from matplotlib.pyplot import style\n",
    "style.use('seaborn-whitegrid')\n",
    "%matplotlib inline\n",
    "from sklearn.ensemble import RandomForestClassifier\n",
    "from sklearn.model_selection import train_test_split,cross_val_score,KFold,GridSearchCV\n",
    "from sklearn.metrics import confusion_matrix,classification_report,accuracy_score\n",
    "from yellowbrick.model_selection import validation_curve "
   ]
  },
  {
   "cell_type": "code",
   "execution_count": 2,
   "metadata": {},
   "outputs": [],
   "source": [
    "target_set = pd.read_csv(\"data_test.csv\", sep=\",\")\n",
    "train_set = pd.read_csv(\"data_train.csv\")"
   ]
  },
  {
   "cell_type": "code",
   "execution_count": 114,
   "metadata": {},
   "outputs": [],
   "source": [
    "df = pd.concat([target_set, train_set])"
   ]
  },
  {
   "cell_type": "markdown",
   "metadata": {},
   "source": [
    "## EDA"
   ]
  },
  {
   "cell_type": "code",
   "execution_count": 3,
   "metadata": {},
   "outputs": [
    {
     "data": {
      "text/html": [
       "<div>\n",
       "<style scoped>\n",
       "    .dataframe tbody tr th:only-of-type {\n",
       "        vertical-align: middle;\n",
       "    }\n",
       "\n",
       "    .dataframe tbody tr th {\n",
       "        vertical-align: top;\n",
       "    }\n",
       "\n",
       "    .dataframe thead th {\n",
       "        text-align: right;\n",
       "    }\n",
       "</style>\n",
       "<table border=\"1\" class=\"dataframe\">\n",
       "  <thead>\n",
       "    <tr style=\"text-align: right;\">\n",
       "      <th></th>\n",
       "      <th>age</th>\n",
       "      <th>workclass</th>\n",
       "      <th>fnlwgt</th>\n",
       "      <th>education</th>\n",
       "      <th>education-num</th>\n",
       "      <th>marital-status</th>\n",
       "      <th>occupation</th>\n",
       "      <th>relationship</th>\n",
       "      <th>race</th>\n",
       "      <th>sex</th>\n",
       "      <th>capital-gain</th>\n",
       "      <th>capital-loss</th>\n",
       "      <th>hours-per-week</th>\n",
       "      <th>native-country</th>\n",
       "      <th>income</th>\n",
       "    </tr>\n",
       "  </thead>\n",
       "  <tbody>\n",
       "    <tr>\n",
       "      <th>0</th>\n",
       "      <td>25</td>\n",
       "      <td>2</td>\n",
       "      <td>226802</td>\n",
       "      <td>2</td>\n",
       "      <td>7</td>\n",
       "      <td>0</td>\n",
       "      <td>9</td>\n",
       "      <td>3</td>\n",
       "      <td>1</td>\n",
       "      <td>0</td>\n",
       "      <td>0</td>\n",
       "      <td>0</td>\n",
       "      <td>40</td>\n",
       "      <td>0</td>\n",
       "      <td>0</td>\n",
       "    </tr>\n",
       "    <tr>\n",
       "      <th>1</th>\n",
       "      <td>38</td>\n",
       "      <td>2</td>\n",
       "      <td>89814</td>\n",
       "      <td>1</td>\n",
       "      <td>9</td>\n",
       "      <td>1</td>\n",
       "      <td>8</td>\n",
       "      <td>1</td>\n",
       "      <td>0</td>\n",
       "      <td>0</td>\n",
       "      <td>0</td>\n",
       "      <td>0</td>\n",
       "      <td>50</td>\n",
       "      <td>0</td>\n",
       "      <td>0</td>\n",
       "    </tr>\n",
       "    <tr>\n",
       "      <th>2</th>\n",
       "      <td>28</td>\n",
       "      <td>4</td>\n",
       "      <td>336951</td>\n",
       "      <td>6</td>\n",
       "      <td>12</td>\n",
       "      <td>1</td>\n",
       "      <td>12</td>\n",
       "      <td>1</td>\n",
       "      <td>0</td>\n",
       "      <td>0</td>\n",
       "      <td>0</td>\n",
       "      <td>0</td>\n",
       "      <td>40</td>\n",
       "      <td>0</td>\n",
       "      <td>1</td>\n",
       "    </tr>\n",
       "    <tr>\n",
       "      <th>3</th>\n",
       "      <td>44</td>\n",
       "      <td>2</td>\n",
       "      <td>160323</td>\n",
       "      <td>5</td>\n",
       "      <td>10</td>\n",
       "      <td>1</td>\n",
       "      <td>9</td>\n",
       "      <td>1</td>\n",
       "      <td>1</td>\n",
       "      <td>0</td>\n",
       "      <td>7688</td>\n",
       "      <td>0</td>\n",
       "      <td>40</td>\n",
       "      <td>0</td>\n",
       "      <td>1</td>\n",
       "    </tr>\n",
       "    <tr>\n",
       "      <th>4</th>\n",
       "      <td>18</td>\n",
       "      <td>5</td>\n",
       "      <td>103497</td>\n",
       "      <td>5</td>\n",
       "      <td>10</td>\n",
       "      <td>0</td>\n",
       "      <td>11</td>\n",
       "      <td>3</td>\n",
       "      <td>0</td>\n",
       "      <td>1</td>\n",
       "      <td>0</td>\n",
       "      <td>0</td>\n",
       "      <td>30</td>\n",
       "      <td>0</td>\n",
       "      <td>0</td>\n",
       "    </tr>\n",
       "  </tbody>\n",
       "</table>\n",
       "</div>"
      ],
      "text/plain": [
       "   age  workclass  fnlwgt  education  education-num  marital-status  \\\n",
       "0   25          2  226802          2              7               0   \n",
       "1   38          2   89814          1              9               1   \n",
       "2   28          4  336951          6             12               1   \n",
       "3   44          2  160323          5             10               1   \n",
       "4   18          5  103497          5             10               0   \n",
       "\n",
       "   occupation  relationship  race  sex  capital-gain  capital-loss  \\\n",
       "0           9             3     1    0             0             0   \n",
       "1           8             1     0    0             0             0   \n",
       "2          12             1     0    0             0             0   \n",
       "3           9             1     1    0          7688             0   \n",
       "4          11             3     0    1             0             0   \n",
       "\n",
       "   hours-per-week  native-country  income  \n",
       "0              40               0       0  \n",
       "1              50               0       0  \n",
       "2              40               0       1  \n",
       "3              40               0       1  \n",
       "4              30               0       0  "
      ]
     },
     "execution_count": 3,
     "metadata": {},
     "output_type": "execute_result"
    }
   ],
   "source": [
    "target_set.head()"
   ]
  },
  {
   "cell_type": "code",
   "execution_count": 4,
   "metadata": {},
   "outputs": [
    {
     "data": {
      "text/html": [
       "<div>\n",
       "<style scoped>\n",
       "    .dataframe tbody tr th:only-of-type {\n",
       "        vertical-align: middle;\n",
       "    }\n",
       "\n",
       "    .dataframe tbody tr th {\n",
       "        vertical-align: top;\n",
       "    }\n",
       "\n",
       "    .dataframe thead th {\n",
       "        text-align: right;\n",
       "    }\n",
       "</style>\n",
       "<table border=\"1\" class=\"dataframe\">\n",
       "  <thead>\n",
       "    <tr style=\"text-align: right;\">\n",
       "      <th></th>\n",
       "      <th>age</th>\n",
       "      <th>workclass</th>\n",
       "      <th>fnlwgt</th>\n",
       "      <th>education</th>\n",
       "      <th>education-num</th>\n",
       "      <th>marital-status</th>\n",
       "      <th>occupation</th>\n",
       "      <th>relationship</th>\n",
       "      <th>race</th>\n",
       "      <th>sex</th>\n",
       "      <th>capital-gain</th>\n",
       "      <th>capital-loss</th>\n",
       "      <th>hours-per-week</th>\n",
       "      <th>native-country</th>\n",
       "      <th>income</th>\n",
       "    </tr>\n",
       "  </thead>\n",
       "  <tbody>\n",
       "    <tr>\n",
       "      <th>0</th>\n",
       "      <td>39</td>\n",
       "      <td>0</td>\n",
       "      <td>77516</td>\n",
       "      <td>0</td>\n",
       "      <td>13</td>\n",
       "      <td>0</td>\n",
       "      <td>0</td>\n",
       "      <td>0</td>\n",
       "      <td>0</td>\n",
       "      <td>0</td>\n",
       "      <td>2174</td>\n",
       "      <td>0</td>\n",
       "      <td>40</td>\n",
       "      <td>0</td>\n",
       "      <td>0</td>\n",
       "    </tr>\n",
       "    <tr>\n",
       "      <th>1</th>\n",
       "      <td>50</td>\n",
       "      <td>1</td>\n",
       "      <td>83311</td>\n",
       "      <td>0</td>\n",
       "      <td>13</td>\n",
       "      <td>1</td>\n",
       "      <td>1</td>\n",
       "      <td>1</td>\n",
       "      <td>0</td>\n",
       "      <td>0</td>\n",
       "      <td>0</td>\n",
       "      <td>0</td>\n",
       "      <td>13</td>\n",
       "      <td>0</td>\n",
       "      <td>0</td>\n",
       "    </tr>\n",
       "    <tr>\n",
       "      <th>2</th>\n",
       "      <td>38</td>\n",
       "      <td>2</td>\n",
       "      <td>215646</td>\n",
       "      <td>1</td>\n",
       "      <td>9</td>\n",
       "      <td>2</td>\n",
       "      <td>2</td>\n",
       "      <td>0</td>\n",
       "      <td>0</td>\n",
       "      <td>0</td>\n",
       "      <td>0</td>\n",
       "      <td>0</td>\n",
       "      <td>40</td>\n",
       "      <td>0</td>\n",
       "      <td>0</td>\n",
       "    </tr>\n",
       "    <tr>\n",
       "      <th>3</th>\n",
       "      <td>53</td>\n",
       "      <td>2</td>\n",
       "      <td>234721</td>\n",
       "      <td>2</td>\n",
       "      <td>7</td>\n",
       "      <td>1</td>\n",
       "      <td>2</td>\n",
       "      <td>1</td>\n",
       "      <td>1</td>\n",
       "      <td>0</td>\n",
       "      <td>0</td>\n",
       "      <td>0</td>\n",
       "      <td>40</td>\n",
       "      <td>0</td>\n",
       "      <td>0</td>\n",
       "    </tr>\n",
       "    <tr>\n",
       "      <th>4</th>\n",
       "      <td>28</td>\n",
       "      <td>2</td>\n",
       "      <td>338409</td>\n",
       "      <td>0</td>\n",
       "      <td>13</td>\n",
       "      <td>1</td>\n",
       "      <td>3</td>\n",
       "      <td>2</td>\n",
       "      <td>1</td>\n",
       "      <td>1</td>\n",
       "      <td>0</td>\n",
       "      <td>0</td>\n",
       "      <td>40</td>\n",
       "      <td>1</td>\n",
       "      <td>0</td>\n",
       "    </tr>\n",
       "  </tbody>\n",
       "</table>\n",
       "</div>"
      ],
      "text/plain": [
       "   age  workclass  fnlwgt  education  education-num  marital-status  \\\n",
       "0   39          0   77516          0             13               0   \n",
       "1   50          1   83311          0             13               1   \n",
       "2   38          2  215646          1              9               2   \n",
       "3   53          2  234721          2              7               1   \n",
       "4   28          2  338409          0             13               1   \n",
       "\n",
       "   occupation  relationship  race  sex  capital-gain  capital-loss  \\\n",
       "0           0             0     0    0          2174             0   \n",
       "1           1             1     0    0             0             0   \n",
       "2           2             0     0    0             0             0   \n",
       "3           2             1     1    0             0             0   \n",
       "4           3             2     1    1             0             0   \n",
       "\n",
       "   hours-per-week  native-country  income  \n",
       "0              40               0       0  \n",
       "1              13               0       0  \n",
       "2              40               0       0  \n",
       "3              40               0       0  \n",
       "4              40               1       0  "
      ]
     },
     "execution_count": 4,
     "metadata": {},
     "output_type": "execute_result"
    }
   ],
   "source": [
    "train_set.head()"
   ]
  },
  {
   "cell_type": "code",
   "execution_count": 5,
   "metadata": {},
   "outputs": [
    {
     "data": {
      "text/plain": [
       "Index(['age', 'workclass', 'fnlwgt', 'education', 'education-num',\n",
       "       'marital-status', 'occupation', 'relationship', 'race', 'sex',\n",
       "       'capital-gain', 'capital-loss', 'hours-per-week', 'native-country',\n",
       "       'income'],\n",
       "      dtype='object')"
      ]
     },
     "execution_count": 5,
     "metadata": {},
     "output_type": "execute_result"
    }
   ],
   "source": [
    "train_set.columns"
   ]
  },
  {
   "cell_type": "code",
   "execution_count": 6,
   "metadata": {},
   "outputs": [
    {
     "data": {
      "text/plain": [
       "((32561, 15), (16281, 15))"
      ]
     },
     "execution_count": 6,
     "metadata": {},
     "output_type": "execute_result"
    }
   ],
   "source": [
    "train_set.shape,target_set.shape"
   ]
  },
  {
   "cell_type": "code",
   "execution_count": 7,
   "metadata": {},
   "outputs": [
    {
     "data": {
      "text/plain": [
       "0    12435\n",
       "1     3846\n",
       "Name: income, dtype: int64"
      ]
     },
     "execution_count": 7,
     "metadata": {},
     "output_type": "execute_result"
    }
   ],
   "source": [
    "target_set['income'].value_counts()"
   ]
  },
  {
   "cell_type": "markdown",
   "metadata": {},
   "source": [
    "## FUNCTIONS"
   ]
  },
  {
   "cell_type": "markdown",
   "metadata": {},
   "source": [
    "#### CHECK IF ANY NULL VALUES"
   ]
  },
  {
   "cell_type": "code",
   "execution_count": 8,
   "metadata": {},
   "outputs": [
    {
     "name": "stdout",
     "output_type": "stream",
     "text": [
      "null count column education 0\n"
     ]
    }
   ],
   "source": [
    "def print_column_na_count(df, column):\n",
    "    print(\"null count column\", column, df[column].isnull().sum())\n",
    "    \n",
    "print_column_na_count(train_set, 'education')"
   ]
  },
  {
   "cell_type": "markdown",
   "metadata": {},
   "source": [
    "#### MAKE A CONFUSION MATRIX"
   ]
  },
  {
   "cell_type": "code",
   "execution_count": 23,
   "metadata": {},
   "outputs": [],
   "source": [
    "def make_confusion_matrix(cf,\n",
    "                          group_names=None,\n",
    "                          categories='auto',\n",
    "                          count=True,\n",
    "                          percent=True,\n",
    "                          cbar=True,\n",
    "                          xyticks=True,\n",
    "                          xyplotlabels=True,\n",
    "                          sum_stats=True,\n",
    "                          figsize=None,\n",
    "                          cmap='Blues', ##Basic color is blue/ u can change it during the function call\n",
    "                          title=None):\n",
    "    '''\n",
    "    This function will make a pretty plot of an sklearn Confusion Matrix cm using a Seaborn heatmap visualization.\n",
    "    Arguments\n",
    "    ---------\n",
    "    cf:            confusion matrix to be passed in\n",
    "    group_names:   List of strings that represent the labels row by row to be shown in each square.\n",
    "    categories:    List of strings containing the categories to be displayed on the x,y axis. Default is 'auto'\n",
    "    count:         If True, show the raw number in the confusion matrix. Default is True.\n",
    "    normalize:     If True, show the proportions for each category. Default is True.\n",
    "    cbar:          If True, show the color bar. The cbar values are based off the values in the confusion matrix.\n",
    "                   Default is True.\n",
    "    xyticks:       If True, show x and y ticks. Default is True.\n",
    "    xyplotlabels:  If True, show 'True Label' and 'Predicted Label' on the figure. Default is True.\n",
    "    sum_stats:     If True, display summary statistics below the figure. Default is True.\n",
    "    figsize:       Tuple representing the figure size. Default will be the matplotlib rcParams value.\n",
    "    cmap:          Colormap of the values displayed from matplotlib.pyplot.cm. Default is 'Blues'\n",
    "                   See http://matplotlib.org/examples/color/colormaps_reference.html\n",
    "                   \n",
    "    title:         Title for the heatmap. Default is None.\n",
    "    '''\n",
    "\n",
    "\n",
    "    # CODE TO GENERATE TEXT INSIDE EACH SQUARE\n",
    "    blanks = ['' for i in range(cf.size)]\n",
    "\n",
    "    if group_names and len(group_names)==cf.size:\n",
    "        group_labels = [\"{}\\n\".format(value) for value in group_names]\n",
    "    else:\n",
    "        group_labels = blanks\n",
    "\n",
    "    if count:\n",
    "        group_counts = [\"{0:0.0f}\\n\".format(value) for value in cf.flatten()]\n",
    "    else:\n",
    "        group_counts = blanks\n",
    "\n",
    "    if percent:\n",
    "        group_percentages = [\"{0:.2%}\".format(value) for value in cf.flatten()/np.sum(cf)]\n",
    "    else:\n",
    "        group_percentages = blanks\n",
    "\n",
    "    box_labels = [f\"{v1}{v2}{v3}\".strip() for v1, v2, v3 in zip(group_labels,group_counts,group_percentages)]\n",
    "    box_labels = np.asarray(box_labels).reshape(cf.shape[0],cf.shape[1])\n",
    "\n",
    "\n",
    "    # CODE TO GENERATE SUMMARY STATISTICS & TEXT FOR SUMMARY STATS\n",
    "    if sum_stats:\n",
    "        #Accuracy is sum of diagonal divided by total observations\n",
    "        accuracy  = np.trace(cf) / float(np.sum(cf))\n",
    "\n",
    "        #if it is a binary confusion matrix, show some more stats\n",
    "        if len(cf)==2:\n",
    "            #Metrics for Binary Confusion Matrices\n",
    "            precision = cf[1,1] / sum(cf[:,1])\n",
    "            recall    = cf[1,1] / sum(cf[1,:])\n",
    "            f1_score  = 2*precision*recall / (precision + recall)\n",
    "            stats_text = \"\\n\\nAccuracy={:0.3f}\\nPrecision={:0.3f}\\nRecall={:0.3f}\\nF1 Score={:0.3f}\".format(\n",
    "                accuracy,precision,recall,f1_score)\n",
    "        else:\n",
    "            stats_text = \"\\n\\nAccuracy={:0.3f}\".format(accuracy)\n",
    "    else:\n",
    "        stats_text = \"\"\n",
    "\n",
    "\n",
    "    # SET FIGURE PARAMETERS ACCORDING TO OTHER ARGUMENTS\n",
    "    if figsize==None:\n",
    "        #Get default figure size if not set\n",
    "        figsize = plt.rcParams.get('figure.figsize')\n",
    "\n",
    "    if xyticks==False:\n",
    "        #Do not show categories if xyticks is False\n",
    "        categories=False\n",
    "\n",
    "\n",
    "    # MAKE THE HEATMAP VISUALIZATION\n",
    "    plt.figure(figsize=figsize)\n",
    "    sns.heatmap(cf,annot=box_labels,fmt=\"\",cmap=cmap,cbar=cbar,xticklabels=categories,yticklabels=categories)\n",
    "\n",
    "    if xyplotlabels:\n",
    "        plt.ylabel('True label')\n",
    "        plt.xlabel('Predicted label' + stats_text)\n",
    "    else:\n",
    "        plt.xlabel(stats_text)\n",
    "    \n",
    "    if title:\n",
    "        plt.title(title)"
   ]
  },
  {
   "cell_type": "markdown",
   "metadata": {},
   "source": [
    "## ONE HOT ENCODING"
   ]
  },
  {
   "cell_type": "code",
   "execution_count": 96,
   "metadata": {},
   "outputs": [],
   "source": [
    "#list of columns we want to One Hot Encode\n",
    "ohe_list = ['workclass', 'education', 'education-num', 'marital-status', 'occupation', 'relationship', 'race', 'sex','native-country']\n",
    "\n",
    "#create new df with one hot encoded columns\n",
    "df_train = pd.get_dummies(train_set, columns = ohe_list)\n",
    "df_test = df = pd.get_dummies(target_set, columns = ohe_list)\n"
   ]
  },
  {
   "cell_type": "code",
   "execution_count": 97,
   "metadata": {},
   "outputs": [],
   "source": [
    "#As there is no native-country41 in the test set we create one filled with '0'\n",
    "df_test['native-country41']=0"
   ]
  },
  {
   "cell_type": "code",
   "execution_count": 98,
   "metadata": {},
   "outputs": [
    {
     "data": {
      "text/plain": [
       "((16281, 124), (32561, 124))"
      ]
     },
     "execution_count": 98,
     "metadata": {},
     "output_type": "execute_result"
    }
   ],
   "source": [
    "#We check if the shapes are identical\n",
    "df_test.shape,df_train.shape"
   ]
  },
  {
   "cell_type": "markdown",
   "metadata": {},
   "source": [
    "## MODEL EVALUATION - OG Data"
   ]
  },
  {
   "cell_type": "code",
   "execution_count": 13,
   "metadata": {},
   "outputs": [],
   "source": [
    "#We split the data into a training and test set\n",
    "\n",
    "X_train = train_set.drop('income', axis = 1)\n",
    "y_train = train_set['income']\n",
    "X_test =  target_set.drop('income', axis = 1)\n",
    "y_test = target_set['income']"
   ]
  },
  {
   "cell_type": "code",
   "execution_count": 14,
   "metadata": {},
   "outputs": [
    {
     "data": {
      "text/plain": [
       "((16281, 14), (16281,))"
      ]
     },
     "execution_count": 14,
     "metadata": {},
     "output_type": "execute_result"
    }
   ],
   "source": [
    "#We make sure it's the same size\n",
    "\n",
    "X_test.shape,y_test.shape"
   ]
  },
  {
   "cell_type": "markdown",
   "metadata": {},
   "source": [
    "### Baseline Accuracy OG DATA"
   ]
  },
  {
   "cell_type": "code",
   "execution_count": 15,
   "metadata": {},
   "outputs": [],
   "source": [
    "# Import RandomForestRegressor\n",
    "from sklearn.ensemble import RandomForestClassifier\n",
    "\n",
    "# Instantiate rf\n",
    "rf = RandomForestClassifier(n_estimators=100)"
   ]
  },
  {
   "cell_type": "code",
   "execution_count": 16,
   "metadata": {},
   "outputs": [
    {
     "name": "stdout",
     "output_type": "stream",
     "text": [
      "TEST ACCURACY SCORE 85.40015969535041\n",
      "TRAIN ACCURACY SCORE 99.99692884125182\n"
     ]
    },
    {
     "data": {
      "image/png": "[encoded data removed]",
      "text/plain": [
       "<Figure size 432x288 with 1 Axes>"
      ]
     },
     "metadata": {
      "needs_background": "light"
     },
     "output_type": "display_data"
    },
    {
     "name": "stdout",
     "output_type": "stream",
     "text": [
      "              precision    recall  f1-score   support\n",
      "\n",
      "           0       0.88      0.93      0.91     12435\n",
      "           1       0.73      0.61      0.66      3846\n",
      "\n",
      "    accuracy                           0.85     16281\n",
      "   macro avg       0.81      0.77      0.78     16281\n",
      "weighted avg       0.85      0.85      0.85     16281\n",
      "\n"
     ]
    }
   ],
   "source": [
    "from sklearn.metrics import plot_roc_curve\n",
    "\n",
    "rf.fit(X_train, y_train)\n",
    "y_pred = rf.predict(X_test)\n",
    "print('TEST ACCURACY SCORE',accuracy_score(y_test, y_pred)*100)\n",
    "y_train_pre = rf.predict(X_train)\n",
    "print('TRAIN ACCURACY SCORE',accuracy_score(y_train_pre, y_train)*100)\n",
    "ax = plt.gca()\n",
    "rf_disp = plot_roc_curve(rf, X_test, y_test, ax=ax, alpha=0.8)\n",
    "plt.show()\n",
    "print(classification_report(y_test,y_pred))"
   ]
  },
  {
   "cell_type": "markdown",
   "metadata": {},
   "source": [
    "### CONFUSION MATRIX"
   ]
  },
  {
   "cell_type": "code",
   "execution_count": 24,
   "metadata": {},
   "outputs": [
    {
     "data": {
      "image/png": "[encoded data removed]",
      "text/plain": [
       "<Figure size 432x288 with 2 Axes>"
      ]
     },
     "metadata": {
      "needs_background": "light"
     },
     "output_type": "display_data"
    }
   ],
   "source": [
    "labels = ['True Neg','False Pos','False Neg','True Pos']\n",
    "categories = ['0', '1']\n",
    "make_confusion_matrix(rf_matrix, \n",
    "                      group_names=labels,\n",
    "                      categories=categories, \n",
    "                      cmap='Greens')"
   ]
  },
  {
   "cell_type": "markdown",
   "metadata": {},
   "source": [
    "### CROSS VALIDATION SCORES"
   ]
  },
  {
   "cell_type": "code",
   "execution_count": 25,
   "metadata": {},
   "outputs": [
    {
     "name": "stdout",
     "output_type": "stream",
     "text": [
      "Scores: [0.84801965 0.85902948 0.85411548 0.84981572 0.86025799 0.85165848\n",
      " 0.86332924 0.85902948 0.86547912 0.85657248]\n",
      "Mean: 0.8567307119272118\n",
      "Standard Deviation: 0.0054715370412424975\n"
     ]
    }
   ],
   "source": [
    "scores = cross_val_score(rf, X_train, y_train, cv=10, scoring = \"accuracy\")\n",
    "print(\"Scores:\", scores)\n",
    "print(\"Mean:\", scores.mean())\n",
    "print(\"Standard Deviation:\", scores.std())"
   ]
  },
  {
   "cell_type": "markdown",
   "metadata": {},
   "source": [
    "### Validation Curve"
   ]
  },
  {
   "cell_type": "code",
   "execution_count": null,
   "metadata": {},
   "outputs": [],
   "source": [
    "from yellowbrick.model_selection import validation_curve \n",
    "# Plot the validation curve\n",
    "## Made in Pycharm because of packages/environment troubles\n",
    "print(validation_curve(rf, X, y, param_name=\"max_depth\", n_jobs=-1,\n",
    "      param_range=np.arange(1, 11), cv=10, scoring=\"accuracy\"))"
   ]
  },
  {
   "cell_type": "markdown",
   "metadata": {},
   "source": [
    "## IMPORTANCE FEATURES"
   ]
  },
  {
   "cell_type": "code",
   "execution_count": 37,
   "metadata": {},
   "outputs": [
    {
     "data": {
      "text/plain": [
       "<AxesSubplot:xlabel='feature'>"
      ]
     },
     "execution_count": 37,
     "metadata": {},
     "output_type": "execute_result"
    },
    {
     "data": {
      "image/png": "[encoded data removed]",
      "text/plain": [
       "<Figure size 1080x432 with 1 Axes>"
      ]
     },
     "metadata": {
      "needs_background": "light"
     },
     "output_type": "display_data"
    }
   ],
   "source": [
    "importances = pd.DataFrame({'feature':X_train.columns,'importance':np.round(rf.feature_importances_,3)})\n",
    "importances1 = importances.sort_values('importance',ascending=False).set_index('feature')\n",
    "importances1.plot(kind='bar',figsize=(15,6))"
   ]
  },
  {
   "cell_type": "markdown",
   "metadata": {},
   "source": [
    "### Build Random Forest Model with hyperparameters with GridSearchCV -1 n_jobs"
   ]
  },
  {
   "cell_type": "markdown",
   "metadata": {},
   "source": [
    "Parameters"
   ]
  },
  {
   "cell_type": "code",
   "execution_count": 76,
   "metadata": {},
   "outputs": [],
   "source": [
    "# Number of trees in random forest\n",
    "n_estimators = [int(x) for x in np.linspace(start = 10, stop = 80, num = 10)]\n",
    "# Number of features to consider at every split\n",
    "max_features = ['auto', 'sqrt']\n",
    "# Maximum number of levels in tree\n",
    "max_depth = [2,4,6,8]\n",
    "# Minimum number of samples required to split a node\n",
    "min_samples_split = [2, 5, 10]\n",
    "# Minimum number of samples required at each leaf node\n",
    "min_samples_leaf = [1, 2, 4, 7]\n",
    "# Method of selecting samples for training each tree\n",
    "bootstrap = [True, False]\n",
    "# The function to measure the quality of a split\n",
    "criterion = ['gini', 'entropy']\n"
   ]
  },
  {
   "cell_type": "markdown",
   "metadata": {},
   "source": [
    "Create the param grid"
   ]
  },
  {
   "cell_type": "code",
   "execution_count": 77,
   "metadata": {},
   "outputs": [
    {
     "name": "stdout",
     "output_type": "stream",
     "text": [
      "{'n_estimators': [10, 17, 25, 33, 41, 48, 56, 64, 72, 80], 'max_features': ['auto', 'sqrt'], 'max_depth': [2, 4, 6, 8], 'min_samples_split': [2, 5, 10], 'min_samples_leaf': [1, 2, 4, 7], 'bootstrap': [True, False], 'criterion': ['gini', 'entropy']}\n"
     ]
    }
   ],
   "source": [
    "# Create the param grid\n",
    "param_grid = {'n_estimators': n_estimators,\n",
    "               'max_features': max_features,\n",
    "               'max_depth': max_depth,\n",
    "               'min_samples_split': min_samples_split,\n",
    "               'min_samples_leaf': min_samples_leaf,\n",
    "               'bootstrap': bootstrap,\n",
    "                'criterion' : criterion,\n",
    "             }\n",
    "print(param_grid)"
   ]
  },
  {
   "cell_type": "code",
   "execution_count": 78,
   "metadata": {},
   "outputs": [],
   "source": [
    "rfc_model = RandomForestClassifier()"
   ]
  },
  {
   "cell_type": "code",
   "execution_count": 79,
   "metadata": {},
   "outputs": [],
   "source": [
    "from sklearn.model_selection import GridSearchCV\n",
    "rf_Grid = GridSearchCV(estimator = rfc_model, param_grid = param_grid, cv = 3, verbose=2, n_jobs = -1)"
   ]
  },
  {
   "cell_type": "code",
   "execution_count": 80,
   "metadata": {},
   "outputs": [
    {
     "name": "stdout",
     "output_type": "stream",
     "text": [
      "Fitting 3 folds for each of 3840 candidates, totalling 11520 fits\n"
     ]
    },
    {
     "name": "stderr",
     "output_type": "stream",
     "text": [
      "[Parallel(n_jobs=-1)]: Using backend LokyBackend with 8 concurrent workers.\n",
      "[Parallel(n_jobs=-1)]: Done  25 tasks      | elapsed:    4.3s\n",
      "[Parallel(n_jobs=-1)]: Done 146 tasks      | elapsed:   11.7s\n",
      "[Parallel(n_jobs=-1)]: Done 349 tasks      | elapsed:   25.6s\n",
      "[Parallel(n_jobs=-1)]: Done 632 tasks      | elapsed:   46.5s\n",
      "[Parallel(n_jobs=-1)]: Done 997 tasks      | elapsed:  1.3min\n",
      "[Parallel(n_jobs=-1)]: Done 1442 tasks      | elapsed:  2.0min\n",
      "[Parallel(n_jobs=-1)]: Done 1969 tasks      | elapsed:  3.0min\n",
      "[Parallel(n_jobs=-1)]: Done 2576 tasks      | elapsed:  4.3min\n",
      "[Parallel(n_jobs=-1)]: Done 3265 tasks      | elapsed:  5.4min\n",
      "[Parallel(n_jobs=-1)]: Done 4034 tasks      | elapsed:  6.4min\n",
      "[Parallel(n_jobs=-1)]: Done 4885 tasks      | elapsed:  8.0min\n",
      "[Parallel(n_jobs=-1)]: Done 5816 tasks      | elapsed: 10.0min\n",
      "[Parallel(n_jobs=-1)]: Done 6829 tasks      | elapsed: 11.3min\n",
      "[Parallel(n_jobs=-1)]: Done 7922 tasks      | elapsed: 13.5min\n",
      "[Parallel(n_jobs=-1)]: Done 9097 tasks      | elapsed: 15.9min\n",
      "[Parallel(n_jobs=-1)]: Done 10352 tasks      | elapsed: 18.1min\n",
      "[Parallel(n_jobs=-1)]: Done 11520 out of 11520 | elapsed: 21.2min finished\n"
     ]
    },
    {
     "data": {
      "text/plain": [
       "GridSearchCV(cv=3, estimator=RandomForestClassifier(), n_jobs=-1,\n",
       "             param_grid={'bootstrap': [True, False],\n",
       "                         'criterion': ['gini', 'entropy'],\n",
       "                         'max_depth': [2, 4, 6, 8],\n",
       "                         'max_features': ['auto', 'sqrt'],\n",
       "                         'min_samples_leaf': [1, 2, 4, 7],\n",
       "                         'min_samples_split': [2, 5, 10],\n",
       "                         'n_estimators': [10, 17, 25, 33, 41, 48, 56, 64, 72,\n",
       "                                          80]},\n",
       "             verbose=2)"
      ]
     },
     "execution_count": 80,
     "metadata": {},
     "output_type": "execute_result"
    }
   ],
   "source": [
    "rf_Grid.fit(X_train, y_train)"
   ]
  },
  {
   "cell_type": "code",
   "execution_count": 81,
   "metadata": {},
   "outputs": [
    {
     "data": {
      "text/plain": [
       "{'bootstrap': False,\n",
       " 'criterion': 'gini',\n",
       " 'max_depth': 8,\n",
       " 'max_features': 'sqrt',\n",
       " 'min_samples_leaf': 1,\n",
       " 'min_samples_split': 2,\n",
       " 'n_estimators': 48}"
      ]
     },
     "execution_count": 81,
     "metadata": {},
     "output_type": "execute_result"
    }
   ],
   "source": [
    "rf_Grid.best_params_"
   ]
  },
  {
   "cell_type": "code",
   "execution_count": 82,
   "metadata": {},
   "outputs": [
    {
     "name": "stdout",
     "output_type": "stream",
     "text": [
      "Train Accuracy  : 0.860\n",
      "Test Accuracy  : 0.857\n"
     ]
    }
   ],
   "source": [
    "print (f'Train Accuracy  : {rf_Grid.score(X_train,y_train):.3f}')\n",
    "print (f'Test Accuracy  : {rf_Grid.score(X_test,y_test):.3f}')"
   ]
  },
  {
   "cell_type": "markdown",
   "metadata": {},
   "source": [
    "### CROSS VALIDATION SCORE"
   ]
  },
  {
   "cell_type": "code",
   "execution_count": null,
   "metadata": {},
   "outputs": [],
   "source": [
    "scores = cross_val_score(rf_Grid, X_train, y_train, cv=4, scoring = \"accuracy\")\n",
    "print(\"Scores:\", scores)\n",
    "print(\"Mean:\", scores.mean())\n",
    "print(\"Standard Deviation:\", scores.std())"
   ]
  },
  {
   "cell_type": "markdown",
   "metadata": {},
   "source": [
    "### Without -1 n_jobs"
   ]
  },
  {
   "cell_type": "code",
   "execution_count": 83,
   "metadata": {},
   "outputs": [],
   "source": [
    "# Number of trees in random forest\n",
    "n_estimators2 = [int(x) for x in np.linspace(start = 10, stop = 80, num = 10)]\n",
    "# Number of features to consider at every split\n",
    "max_features2 = ['auto', 'sqrt']\n",
    "# Maximum number of levels in tree\n",
    "max_depth2 = [2,4]\n",
    "# Minimum number of samples required to split a node\n",
    "min_samples_split2 = [2, 5]\n",
    "# Minimum number of samples required at each leaf node\n",
    "min_samples_leaf2 = [1, 2]\n",
    "# Method of selecting samples for training each tree\n",
    "bootstrap2 = [True, False]"
   ]
  },
  {
   "cell_type": "code",
   "execution_count": 84,
   "metadata": {},
   "outputs": [
    {
     "name": "stdout",
     "output_type": "stream",
     "text": [
      "{'n_estimators': [10, 17, 25, 33, 41, 48, 56, 64, 72, 80], 'max_features': ['auto', 'sqrt'], 'max_depth': [2, 4], 'min_samples_split': [2, 5], 'min_samples_leaf': [1, 2], 'bootstrap': [True, False]}\n"
     ]
    }
   ],
   "source": [
    "param_grid2 = {'n_estimators': n_estimators2,\n",
    "               'max_features': max_features2,\n",
    "               'max_depth': max_depth2,\n",
    "               'min_samples_split': min_samples_split2,\n",
    "               'min_samples_leaf': min_samples_leaf2,\n",
    "               'bootstrap': bootstrap2}\n",
    "print(param_grid2)"
   ]
  },
  {
   "cell_type": "code",
   "execution_count": 85,
   "metadata": {},
   "outputs": [],
   "source": [
    "rf_model2 = RandomForestClassifier()"
   ]
  },
  {
   "cell_type": "code",
   "execution_count": 86,
   "metadata": {},
   "outputs": [],
   "source": [
    "from sklearn.model_selection import GridSearchCV\n",
    "rf_grid2 = GridSearchCV(estimator = rf_model2, param_grid = param_grid2, cv = 10, verbose=2, n_jobs = 4)"
   ]
  },
  {
   "cell_type": "code",
   "execution_count": 87,
   "metadata": {},
   "outputs": [
    {
     "name": "stdout",
     "output_type": "stream",
     "text": [
      "Fitting 10 folds for each of 320 candidates, totalling 3200 fits\n"
     ]
    },
    {
     "name": "stderr",
     "output_type": "stream",
     "text": [
      "[Parallel(n_jobs=4)]: Using backend LokyBackend with 4 concurrent workers.\n",
      "[Parallel(n_jobs=4)]: Done  33 tasks      | elapsed:    4.1s\n",
      "[Parallel(n_jobs=4)]: Done 154 tasks      | elapsed:   15.0s\n",
      "[Parallel(n_jobs=4)]: Done 357 tasks      | elapsed:   36.8s\n",
      "[Parallel(n_jobs=4)]: Done 640 tasks      | elapsed:  1.1min\n",
      "[Parallel(n_jobs=4)]: Done 1005 tasks      | elapsed:  1.8min\n",
      "[Parallel(n_jobs=4)]: Done 1450 tasks      | elapsed:  2.7min\n",
      "[Parallel(n_jobs=4)]: Done 1977 tasks      | elapsed:  3.6min\n",
      "[Parallel(n_jobs=4)]: Done 2584 tasks      | elapsed:  4.7min\n",
      "[Parallel(n_jobs=4)]: Done 3200 out of 3200 | elapsed:  6.5min finished\n"
     ]
    },
    {
     "data": {
      "text/plain": [
       "GridSearchCV(cv=10, estimator=RandomForestClassifier(), n_jobs=4,\n",
       "             param_grid={'bootstrap': [True, False], 'max_depth': [2, 4],\n",
       "                         'max_features': ['auto', 'sqrt'],\n",
       "                         'min_samples_leaf': [1, 2],\n",
       "                         'min_samples_split': [2, 5],\n",
       "                         'n_estimators': [10, 17, 25, 33, 41, 48, 56, 64, 72,\n",
       "                                          80]},\n",
       "             verbose=2)"
      ]
     },
     "execution_count": 87,
     "metadata": {},
     "output_type": "execute_result"
    }
   ],
   "source": [
    "rf_grid2.fit(X_train, y_train)"
   ]
  },
  {
   "cell_type": "code",
   "execution_count": 88,
   "metadata": {},
   "outputs": [
    {
     "data": {
      "text/plain": [
       "{'bootstrap': True,\n",
       " 'max_depth': 4,\n",
       " 'max_features': 'auto',\n",
       " 'min_samples_leaf': 2,\n",
       " 'min_samples_split': 5,\n",
       " 'n_estimators': 56}"
      ]
     },
     "execution_count": 88,
     "metadata": {},
     "output_type": "execute_result"
    }
   ],
   "source": [
    "rf_grid2.best_params_"
   ]
  },
  {
   "cell_type": "code",
   "execution_count": 91,
   "metadata": {},
   "outputs": [
    {
     "name": "stdout",
     "output_type": "stream",
     "text": [
      "Train Accuracy  : 0.847\n",
      "Test Accuracy  : 0.846\n"
     ]
    }
   ],
   "source": [
    "print (f'Train Accuracy  : {rf_grid2.score(X_train,y_train):.3f}')\n",
    "print (f'Test Accuracy  : {rf_grid2.score(X_test,y_test):.3f}')"
   ]
  },
  {
   "cell_type": "markdown",
   "metadata": {},
   "source": [
    "### Cross Validation Score"
   ]
  },
  {
   "cell_type": "code",
   "execution_count": null,
   "metadata": {},
   "outputs": [
    {
     "name": "stdout",
     "output_type": "stream",
     "text": [
      "Fitting 10 folds for each of 320 candidates, totalling 3200 fits\n"
     ]
    },
    {
     "name": "stderr",
     "output_type": "stream",
     "text": [
      "[Parallel(n_jobs=4)]: Using backend LokyBackend with 4 concurrent workers.\n",
      "[Parallel(n_jobs=4)]: Done  33 tasks      | elapsed:    2.8s\n",
      "[Parallel(n_jobs=4)]: Done 154 tasks      | elapsed:   13.1s\n",
      "[Parallel(n_jobs=4)]: Done 357 tasks      | elapsed:   36.0s\n",
      "[Parallel(n_jobs=4)]: Done 640 tasks      | elapsed:  1.2min\n",
      "[Parallel(n_jobs=4)]: Done 1005 tasks      | elapsed:  1.9min\n",
      "[Parallel(n_jobs=4)]: Done 1450 tasks      | elapsed:  2.8min\n",
      "[Parallel(n_jobs=4)]: Done 1977 tasks      | elapsed:  3.8min\n",
      "[Parallel(n_jobs=4)]: Done 2584 tasks      | elapsed:  4.8min\n",
      "[Parallel(n_jobs=4)]: Done 3200 out of 3200 | elapsed:  6.3min finished\n"
     ]
    },
    {
     "name": "stdout",
     "output_type": "stream",
     "text": [
      "Fitting 10 folds for each of 320 candidates, totalling 3200 fits\n"
     ]
    },
    {
     "name": "stderr",
     "output_type": "stream",
     "text": [
      "[Parallel(n_jobs=4)]: Using backend LokyBackend with 4 concurrent workers.\n",
      "[Parallel(n_jobs=4)]: Done  58 tasks      | elapsed:    3.5s\n",
      "[Parallel(n_jobs=4)]: Done 202 tasks      | elapsed:   17.5s\n",
      "[Parallel(n_jobs=4)]: Done 405 tasks      | elapsed:   35.3s\n",
      "[Parallel(n_jobs=4)]: Done 688 tasks      | elapsed:  1.0min\n",
      "[Parallel(n_jobs=4)]: Done 1053 tasks      | elapsed:  1.9min\n",
      "[Parallel(n_jobs=4)]: Done 1498 tasks      | elapsed:  2.9min\n",
      "[Parallel(n_jobs=4)]: Done 2025 tasks      | elapsed:  3.8min\n",
      "[Parallel(n_jobs=4)]: Done 2632 tasks      | elapsed:  5.0min\n"
     ]
    }
   ],
   "source": [
    "scores = cross_val_score(rf_grid2, X_train, y_train, cv=10, scoring = \"accuracy\")\n",
    "print(\"Scores:\", scores)\n",
    "print(\"Mean:\", scores.mean())\n",
    "print(\"Standard Deviation:\", scores.std())"
   ]
  },
  {
   "cell_type": "markdown",
   "metadata": {},
   "source": [
    "### With RandomizedSearchCv"
   ]
  },
  {
   "cell_type": "code",
   "execution_count": 99,
   "metadata": {},
   "outputs": [],
   "source": [
    "from sklearn.model_selection import RandomizedSearchCV\n",
    "rf_randomgrid = RandomizedSearchCV(estimator = rfc_model, param_distributions = param_grid, cv = 10, verbose=2, n_jobs = -1)\n"
   ]
  },
  {
   "cell_type": "code",
   "execution_count": 100,
   "metadata": {},
   "outputs": [
    {
     "name": "stdout",
     "output_type": "stream",
     "text": [
      "Fitting 10 folds for each of 10 candidates, totalling 100 fits\n"
     ]
    },
    {
     "name": "stderr",
     "output_type": "stream",
     "text": [
      "[Parallel(n_jobs=-1)]: Using backend LokyBackend with 8 concurrent workers.\n",
      "[Parallel(n_jobs=-1)]: Done  25 tasks      | elapsed:    7.7s\n",
      "[Parallel(n_jobs=-1)]: Done 100 out of 100 | elapsed:   17.8s finished\n"
     ]
    },
    {
     "data": {
      "text/plain": [
       "RandomizedSearchCV(cv=10, estimator=RandomForestClassifier(), n_jobs=-1,\n",
       "                   param_distributions={'bootstrap': [True, False],\n",
       "                                        'criterion': ['gini', 'entropy'],\n",
       "                                        'max_depth': [2, 4, 6, 8],\n",
       "                                        'max_features': ['auto', 'sqrt'],\n",
       "                                        'min_samples_leaf': [1, 2, 4, 7],\n",
       "                                        'min_samples_split': [2, 5, 10],\n",
       "                                        'n_estimators': [10, 17, 25, 33, 41, 48,\n",
       "                                                         56, 64, 72, 80]},\n",
       "                   verbose=2)"
      ]
     },
     "execution_count": 100,
     "metadata": {},
     "output_type": "execute_result"
    }
   ],
   "source": [
    "rf_randomgrid.fit(X_train, y_train)"
   ]
  },
  {
   "cell_type": "code",
   "execution_count": 101,
   "metadata": {},
   "outputs": [
    {
     "data": {
      "text/plain": [
       "{'n_estimators': 56,\n",
       " 'min_samples_split': 2,\n",
       " 'min_samples_leaf': 2,\n",
       " 'max_features': 'sqrt',\n",
       " 'max_depth': 8,\n",
       " 'criterion': 'entropy',\n",
       " 'bootstrap': False}"
      ]
     },
     "execution_count": 101,
     "metadata": {},
     "output_type": "execute_result"
    }
   ],
   "source": [
    "rf_randomgrid.best_params_"
   ]
  },
  {
   "cell_type": "code",
   "execution_count": 102,
   "metadata": {},
   "outputs": [
    {
     "name": "stdout",
     "output_type": "stream",
     "text": [
      "Train Accuracy  : 0.859\n",
      "Test Accuracy  : 0.856\n"
     ]
    }
   ],
   "source": [
    "print (f'Train Accuracy  : {rf_randomgrid.score(X_train,y_train):.3f}')\n",
    "print (f'Test Accuracy  : {rf_randomgrid.score(X_test,y_test):.3f}')"
   ]
  },
  {
   "cell_type": "markdown",
   "metadata": {},
   "source": [
    "### Validation Strategy \n",
    "Use the parameters from the Grid & Randomsearch Cv"
   ]
  },
  {
   "cell_type": "code",
   "execution_count": 103,
   "metadata": {},
   "outputs": [],
   "source": [
    "rf_rscv = RandomForestClassifier(n_estimators=48,min_samples_split = 10,min_samples_leaf = 1, max_features ='auto',max_depth = 8, criterion = 'gini', bootstrap = True)\n"
   ]
  },
  {
   "cell_type": "code",
   "execution_count": 104,
   "metadata": {
    "scrolled": false
   },
   "outputs": [
    {
     "name": "stdout",
     "output_type": "stream",
     "text": [
      "TEST ACCURACY SCORE 85.65198697868681\n",
      "TRAIN ACCURACY SCORE 85.86652744080342\n"
     ]
    },
    {
     "data": {
      "image/png": "[encoded data removed]",
      "text/plain": [
       "<Figure size 432x288 with 1 Axes>"
      ]
     },
     "metadata": {
      "needs_background": "light"
     },
     "output_type": "display_data"
    },
    {
     "name": "stdout",
     "output_type": "stream",
     "text": [
      "              precision    recall  f1-score   support\n",
      "\n",
      "           0       0.87      0.96      0.91     12435\n",
      "           1       0.79      0.53      0.64      3846\n",
      "\n",
      "    accuracy                           0.86     16281\n",
      "   macro avg       0.83      0.74      0.77     16281\n",
      "weighted avg       0.85      0.86      0.85     16281\n",
      "\n"
     ]
    }
   ],
   "source": [
    "rf_rscv.fit(X_train, y_train)\n",
    "y_pred = rf_rscv.predict(X_test)\n",
    "print('TEST ACCURACY SCORE',accuracy_score(y_test, y_pred)*100)\n",
    "y_train_pre = rf_rscv.predict(X_train)\n",
    "print('TRAIN ACCURACY SCORE',accuracy_score(y_train_pre, y_train)*100)\n",
    "ax = plt.gca()\n",
    "rf_disp = plot_roc_curve(rf_rscv, X_test, y_test, ax=ax, alpha=0.8)\n",
    "plt.show()\n",
    "print(classification_report(y_test,y_pred))"
   ]
  },
  {
   "cell_type": "markdown",
   "metadata": {},
   "source": [
    "### Confusion Matrix & Cross Val Scores"
   ]
  },
  {
   "cell_type": "code",
   "execution_count": 105,
   "metadata": {},
   "outputs": [],
   "source": [
    "rf_rscv_matrix = confusion_matrix(y_test, y_pred)"
   ]
  },
  {
   "cell_type": "code",
   "execution_count": 106,
   "metadata": {},
   "outputs": [
    {
     "data": {
      "image/png": "[encoded data removed]",
      "text/plain": [
       "<Figure size 432x288 with 2 Axes>"
      ]
     },
     "metadata": {
      "needs_background": "light"
     },
     "output_type": "display_data"
    }
   ],
   "source": [
    "labels = ['True Neg','False Pos','False Neg','True Pos']\n",
    "categories = ['0', '1']\n",
    "make_confusion_matrix(rf_rscv_matrix, \n",
    "                      group_names=labels,\n",
    "                      categories=categories, \n",
    "                      cmap='Greens')"
   ]
  },
  {
   "cell_type": "markdown",
   "metadata": {},
   "source": [
    "### --------------------------------------------------------------------"
   ]
  },
  {
   "cell_type": "markdown",
   "metadata": {},
   "source": [
    "### FIRST ATTEMPTS"
   ]
  },
  {
   "cell_type": "markdown",
   "metadata": {},
   "source": [
    "## LOW PARAMETERS"
   ]
  },
  {
   "cell_type": "code",
   "execution_count": 95,
   "metadata": {},
   "outputs": [
    {
     "name": "stdout",
     "output_type": "stream",
     "text": [
      "Best 86.2995729661281\n",
      "params {'criterion': 'entropy', 'max_features': 4, 'min_samples_leaf': 10, 'n_estimators': 50}\n"
     ]
    }
   ],
   "source": [
    "clf=RandomForestClassifier()\n",
    "kf=KFold(n_splits=3)\n",
    "max_features=np.array([1,2,3,4,5])\n",
    "n_estimators=np.array([10,25,50])\n",
    "min_samples_leaf=np.array([10,25,50])\n",
    "criterion = ['gini', 'entropy']\n",
    "#max_depth = np.array([1,2,4,8,10])\n",
    "param_grid=dict(n_estimators=n_estimators,max_features=max_features,min_samples_leaf=min_samples_leaf,criterion = criterion)\n",
    "grid=GridSearchCV(estimator=clf,param_grid=param_grid,cv=kf)\n",
    "gres=grid.fit(X_train,y_train)\n",
    "print(\"Best\",(gres.best_score_)*100)\n",
    "print(\"params\",gres.best_params_)"
   ]
  },
  {
   "cell_type": "markdown",
   "metadata": {},
   "source": [
    "## MID PARAMETERS"
   ]
  },
  {
   "cell_type": "code",
   "execution_count": 99,
   "metadata": {},
   "outputs": [
    {
     "name": "stdout",
     "output_type": "stream",
     "text": [
      "Best 86.28728644465097\n",
      "params {'criterion': 'entropy', 'max_features': 3, 'min_samples_leaf': 7, 'n_estimators': 20}\n"
     ]
    }
   ],
   "source": [
    "clf=RandomForestClassifier()\n",
    "kf=KFold(n_splits=3)\n",
    "max_features=np.array([1,2,3,4,5,6,7,8,9,10])\n",
    "n_estimators=np.array([1,5,10,20,25])\n",
    "min_samples_leaf=np.array([1,5,7,10])\n",
    "criterion = ['gini', 'entropy']\n",
    "#max_depth = np.array([1,2,4,8,10])\n",
    "param_grid=dict(n_estimators=n_estimators,max_features=max_features,min_samples_leaf=min_samples_leaf,criterion = criterion)\n",
    "grid=GridSearchCV(estimator=clf,param_grid=param_grid,cv=kf)\n",
    "gres=grid.fit(X_train,y_train)\n",
    "print(\"Best\",(gres.best_score_)*100)\n",
    "print(\"params\",gres.best_params_)"
   ]
  },
  {
   "cell_type": "markdown",
   "metadata": {},
   "source": [
    "## High Parameters"
   ]
  },
  {
   "cell_type": "code",
   "execution_count": 100,
   "metadata": {},
   "outputs": [
    {
     "name": "stdout",
     "output_type": "stream",
     "text": [
      "Best 86.30571028451402\n",
      "params {'criterion': 'gini', 'max_features': 3, 'min_samples_leaf': 7, 'n_estimators': 12}\n"
     ]
    }
   ],
   "source": [
    "clf=RandomForestClassifier()\n",
    "kf=KFold(n_splits=3)\n",
    "max_features=np.array([1,2,3,4,5,6,7,8,9,10])\n",
    "n_estimators=np.array([10,12,12,14,15,16,17,18,19,20])\n",
    "min_samples_leaf=np.array([1,2,3,4,5,6,7])\n",
    "criterion = ['gini', 'entropy']\n",
    "#max_depth = np.array([1,2,4,8,10])\n",
    "param_grid=dict(n_estimators=n_estimators,max_features=max_features,min_samples_leaf=min_samples_leaf,criterion = criterion)\n",
    "grid=GridSearchCV(estimator=clf,param_grid=param_grid,cv=kf)\n",
    "gres=grid.fit(X_train,y_train)\n",
    "print(\"Best\",(gres.best_score_)*100)\n",
    "print(\"params\",gres.best_params_)"
   ]
  },
  {
   "cell_type": "markdown",
   "metadata": {},
   "source": [
    "### --------------------------------------------------------------------"
   ]
  },
  {
   "cell_type": "markdown",
   "metadata": {},
   "source": [
    "## MODEL EVALUATION - OHE OG DATA"
   ]
  },
  {
   "cell_type": "markdown",
   "metadata": {},
   "source": [
    "### Baseline Accuracy One Hot Encoded Data"
   ]
  },
  {
   "cell_type": "code",
   "execution_count": 70,
   "metadata": {},
   "outputs": [],
   "source": [
    "X_train_o = df_train.drop('income', axis = 1)\n",
    "y_train_o = df_train['income']\n",
    "X_test_o =  df_test.drop('income', axis = 1)\n",
    "y_test_o = df_test['income']"
   ]
  },
  {
   "cell_type": "code",
   "execution_count": 71,
   "metadata": {},
   "outputs": [
    {
     "data": {
      "text/plain": [
       "((32561, 123), (32561,), (16281, 123), (16281,))"
      ]
     },
     "execution_count": 71,
     "metadata": {},
     "output_type": "execute_result"
    }
   ],
   "source": [
    "X_train_o.shape,y_train_o.shape,X_test_o.shape, y_test_o.shape"
   ]
  },
  {
   "cell_type": "code",
   "execution_count": 72,
   "metadata": {},
   "outputs": [],
   "source": [
    "# Import RandomForestRegressor\n",
    "from sklearn.ensemble import RandomForestClassifier\n",
    "\n",
    "# Instantiate rf\n",
    "rfc = RandomForestClassifier(n_estimators=100)"
   ]
  },
  {
   "cell_type": "code",
   "execution_count": 73,
   "metadata": {},
   "outputs": [
    {
     "name": "stdout",
     "output_type": "stream",
     "text": [
      "TEST ACCURACY SCORE 85.0316319636386\n",
      "TRAIN ACCURACY SCORE 99.9938576825036\n"
     ]
    },
    {
     "data": {
      "image/png": "[encoded data removed]",
      "text/plain": [
       "<Figure size 432x288 with 1 Axes>"
      ]
     },
     "metadata": {
      "needs_background": "light"
     },
     "output_type": "display_data"
    },
    {
     "name": "stdout",
     "output_type": "stream",
     "text": [
      "              precision    recall  f1-score   support\n",
      "\n",
      "           0       0.88      0.93      0.90     12435\n",
      "           1       0.72      0.61      0.66      3846\n",
      "\n",
      "    accuracy                           0.85     16281\n",
      "   macro avg       0.80      0.77      0.78     16281\n",
      "weighted avg       0.84      0.85      0.85     16281\n",
      "\n"
     ]
    }
   ],
   "source": [
    "rfc.fit(X_train_o, y_train_o)\n",
    "y_pred_o = rfc.predict(X_test_o)\n",
    "print('TEST ACCURACY SCORE',accuracy_score(y_test_o, y_pred_o)*100)\n",
    "y_train_pre_o = rfc.predict(X_train_o)\n",
    "print('TRAIN ACCURACY SCORE',accuracy_score(y_train_pre_o, y_train_o)*100)\n",
    "ax = plt.gca()\n",
    "rf_disp = plot_roc_curve(rfc, X_test_o, y_test_o, ax=ax, alpha=0.8)\n",
    "plt.show()\n",
    "print(classification_report(y_test_o,y_pred_o))"
   ]
  },
  {
   "cell_type": "markdown",
   "metadata": {},
   "source": [
    "### CONFUSION MATRIX"
   ]
  },
  {
   "cell_type": "code",
   "execution_count": 74,
   "metadata": {},
   "outputs": [],
   "source": [
    "# Generate the confusion matrix and classification report\n",
    "rfo_matrix = confusion_matrix(y_test_o, y_pred_o)"
   ]
  },
  {
   "cell_type": "code",
   "execution_count": 75,
   "metadata": {},
   "outputs": [
    {
     "data": {
      "image/png": "[encoded data removed]",
      "text/plain": [
       "<Figure size 432x288 with 2 Axes>"
      ]
     },
     "metadata": {
      "needs_background": "light"
     },
     "output_type": "display_data"
    }
   ],
   "source": [
    "labels = ['True Neg','False Pos','False Neg','True Pos']\n",
    "categories = ['0', '1']\n",
    "make_confusion_matrix(rfo_matrix, \n",
    "                      group_names=labels,\n",
    "                      categories=categories, \n",
    "                      cmap='Greens')"
   ]
  },
  {
   "cell_type": "markdown",
   "metadata": {},
   "source": [
    "### Grid Search & RandomSearchCv"
   ]
  },
  {
   "cell_type": "code",
   "execution_count": 107,
   "metadata": {},
   "outputs": [],
   "source": [
    "# Number of trees in random forest\n",
    "n_estimators_o = [int(x) for x in np.linspace(start = 10, stop = 80, num = 10)]\n",
    "# Number of features to consider at every split\n",
    "max_features_o = ['auto', 'sqrt']\n",
    "# Maximum number of levels in tree\n",
    "max_depth_o = [2,4]\n",
    "# Minimum number of samples required to split a node\n",
    "min_samples_split_o = [2, 5]\n",
    "# Minimum number of samples required at each leaf node\n",
    "min_samples_leaf_o = [1, 2]\n",
    "# Method of selecting samples for training each tree\n",
    "bootstrap_o = [True, False]"
   ]
  },
  {
   "cell_type": "code",
   "execution_count": 108,
   "metadata": {},
   "outputs": [
    {
     "name": "stdout",
     "output_type": "stream",
     "text": [
      "{'n_estimators': [10, 17, 25, 33, 41, 48, 56, 64, 72, 80], 'max_features': ['auto', 'sqrt'], 'max_depth': [2, 4], 'min_samples_split': [2, 5], 'min_samples_leaf': [1, 2], 'bootstrap': [True, False]}\n"
     ]
    }
   ],
   "source": [
    "param_grid_o = {'n_estimators': n_estimators_o,\n",
    "               'max_features': max_features_o,\n",
    "               'max_depth': max_depth_o,\n",
    "               'min_samples_split': min_samples_split_o,\n",
    "               'min_samples_leaf': min_samples_leaf_o,\n",
    "               'bootstrap': bootstrap_o}\n",
    "print(param_grid_o)"
   ]
  },
  {
   "cell_type": "code",
   "execution_count": 109,
   "metadata": {},
   "outputs": [],
   "source": [
    "rf_model_o = RandomForestClassifier()"
   ]
  },
  {
   "cell_type": "code",
   "execution_count": 110,
   "metadata": {},
   "outputs": [],
   "source": [
    "rf_grid_o = GridSearchCV(estimator = rf_model_o, param_grid = param_grid2, cv = 10, verbose=2, n_jobs = -1)"
   ]
  },
  {
   "cell_type": "code",
   "execution_count": 111,
   "metadata": {},
   "outputs": [
    {
     "name": "stdout",
     "output_type": "stream",
     "text": [
      "Fitting 10 folds for each of 320 candidates, totalling 3200 fits\n"
     ]
    },
    {
     "name": "stderr",
     "output_type": "stream",
     "text": [
      "[Parallel(n_jobs=-1)]: Using backend LokyBackend with 8 concurrent workers.\n",
      "[Parallel(n_jobs=-1)]: Done  25 tasks      | elapsed:    4.0s\n",
      "[Parallel(n_jobs=-1)]: Done 146 tasks      | elapsed:   15.3s\n",
      "[Parallel(n_jobs=-1)]: Done 349 tasks      | elapsed:   40.2s\n",
      "[Parallel(n_jobs=-1)]: Done 632 tasks      | elapsed:  1.1min\n",
      "[Parallel(n_jobs=-1)]: Done 997 tasks      | elapsed:  2.0min\n",
      "[Parallel(n_jobs=-1)]: Done 1442 tasks      | elapsed:  3.0min\n",
      "[Parallel(n_jobs=-1)]: Done 1969 tasks      | elapsed:  4.1min\n",
      "[Parallel(n_jobs=-1)]: Done 2576 tasks      | elapsed:  5.1min\n",
      "[Parallel(n_jobs=-1)]: Done 3200 out of 3200 | elapsed:  6.6min finished\n"
     ]
    },
    {
     "data": {
      "text/plain": [
       "GridSearchCV(cv=10, estimator=RandomForestClassifier(), n_jobs=-1,\n",
       "             param_grid={'bootstrap': [True, False], 'max_depth': [2, 4],\n",
       "                         'max_features': ['auto', 'sqrt'],\n",
       "                         'min_samples_leaf': [1, 2],\n",
       "                         'min_samples_split': [2, 5],\n",
       "                         'n_estimators': [10, 17, 25, 33, 41, 48, 56, 64, 72,\n",
       "                                          80]},\n",
       "             verbose=2)"
      ]
     },
     "execution_count": 111,
     "metadata": {},
     "output_type": "execute_result"
    }
   ],
   "source": [
    "rf_grid_o.fit(X_train, y_train)"
   ]
  },
  {
   "cell_type": "code",
   "execution_count": 112,
   "metadata": {},
   "outputs": [
    {
     "data": {
      "text/plain": [
       "{'bootstrap': False,\n",
       " 'max_depth': 4,\n",
       " 'max_features': 'sqrt',\n",
       " 'min_samples_leaf': 1,\n",
       " 'min_samples_split': 2,\n",
       " 'n_estimators': 56}"
      ]
     },
     "execution_count": 112,
     "metadata": {},
     "output_type": "execute_result"
    }
   ],
   "source": [
    "rf_grid_o.best_params_"
   ]
  },
  {
   "cell_type": "code",
   "execution_count": 113,
   "metadata": {},
   "outputs": [
    {
     "name": "stdout",
     "output_type": "stream",
     "text": [
      "Train Accuracy  : 0.835\n",
      "Test Accuracy  : 0.834\n"
     ]
    }
   ],
   "source": [
    "print (f'Train Accuracy  : {rf_grid_o.score(X_train,y_train):.3f}')\n",
    "print (f'Test Accuracy  : {rf_grid_o.score(X_test,y_test):.3f}')"
   ]
  },
  {
   "cell_type": "markdown",
   "metadata": {},
   "source": [
    "### --------------------------------------------------------------------"
   ]
  },
  {
   "cell_type": "markdown",
   "metadata": {},
   "source": [
    "## FIRST ATTEMPTS\n",
    "\n",
    "### Low parameters"
   ]
  },
  {
   "cell_type": "code",
   "execution_count": 63,
   "metadata": {},
   "outputs": [
    {
     "name": "stdout",
     "output_type": "stream",
     "text": [
      "Best 84.68720811199272\n",
      "params {'max_features': 5, 'min_samples_leaf': 10, 'n_estimators': 50}\n"
     ]
    }
   ],
   "source": [
    "clf=RandomForestClassifier()\n",
    "kf=KFold(n_splits=3)\n",
    "max_features=np.array([1,2,3,4,5])\n",
    "n_estimators=np.array([10,25,50])\n",
    "min_samples_leaf=np.array([10,25,50])\n",
    "#max_depth = np.array([1,2,4,8,10])\n",
    "param_grid=dict(n_estimators=n_estimators,max_features=max_features,min_samples_leaf=min_samples_leaf)\n",
    "grid=GridSearchCV(estimator=clf,param_grid=param_grid,cv=kf)\n",
    "gres=grid.fit(X_train_o,y_train_o)\n",
    "print(\"Best\",(gres.best_score_)*100)\n",
    "print(\"params\",gres.best_params_)"
   ]
  },
  {
   "cell_type": "markdown",
   "metadata": {},
   "source": [
    "### Mid parameters"
   ]
  },
  {
   "cell_type": "code",
   "execution_count": 64,
   "metadata": {},
   "outputs": [
    {
     "name": "stdout",
     "output_type": "stream",
     "text": [
      "Best 84.94826075629635\n",
      "params {'max_features': 10, 'min_samples_leaf': 50, 'n_estimators': 90}\n"
     ]
    }
   ],
   "source": [
    "clf=RandomForestClassifier()\n",
    "kf=KFold(n_splits=3)\n",
    "max_features=np.array([5,6,7,8,9,10])\n",
    "n_estimators=np.array([50,60,70,80,90])\n",
    "min_samples_leaf=np.array([50, 60, 70, 80])\n",
    "#max_depth = np.array([1,2,4,8,10])\n",
    "param_grid=dict(n_estimators=n_estimators,max_features=max_features,min_samples_leaf=min_samples_leaf)\n",
    "grid=GridSearchCV(estimator=clf,param_grid=param_grid,cv=kf)\n",
    "gres=grid.fit(X_train_o,y_train_o)\n",
    "print(\"Best\",(gres.best_score_)*100)\n",
    "print(\"params\",gres.best_params_)"
   ]
  },
  {
   "cell_type": "markdown",
   "metadata": {},
   "source": [
    "### High Parameters"
   ]
  },
  {
   "cell_type": "code",
   "execution_count": 65,
   "metadata": {},
   "outputs": [
    {
     "name": "stdout",
     "output_type": "stream",
     "text": [
      "Best 86.43776916770497\n",
      "params {'max_features': 20, 'min_samples_leaf': 5, 'n_estimators': 110}\n"
     ]
    }
   ],
   "source": [
    "clf=RandomForestClassifier()\n",
    "kf=KFold(n_splits=3)\n",
    "max_features=np.array([10,15,20,30])\n",
    "n_estimators=np.array([90,100,110,120,130,140,150])\n",
    "min_samples_leaf=np.array([1,5,8,10])\n",
    "#max_depth = np.array([1,2,4,8,10])\n",
    "param_grid=dict(n_estimators=n_estimators,max_features=max_features,min_samples_leaf=min_samples_leaf)\n",
    "grid=GridSearchCV(estimator=clf,param_grid=param_grid,cv=kf)\n",
    "gres=grid.fit(X_train_o,y_train_o)\n",
    "print(\"Best\",(gres.best_score_)*100)\n",
    "print(\"params\",gres.best_params_)"
   ]
  },
  {
   "cell_type": "code",
   "execution_count": 66,
   "metadata": {
    "scrolled": true
   },
   "outputs": [
    {
     "name": "stdout",
     "output_type": "stream",
     "text": [
      "Fitting 3 folds for each of 64 candidates, totalling 192 fits\n",
      "[CV] max_features=17, min_samples_leaf=2, n_estimators=110 ...........\n"
     ]
    },
    {
     "name": "stderr",
     "output_type": "stream",
     "text": [
      "[Parallel(n_jobs=1)]: Using backend SequentialBackend with 1 concurrent workers.\n"
     ]
    },
    {
     "name": "stdout",
     "output_type": "stream",
     "text": [
      "[CV]  max_features=17, min_samples_leaf=2, n_estimators=110, total=   3.6s\n",
      "[CV] max_features=17, min_samples_leaf=2, n_estimators=110 ...........\n"
     ]
    },
    {
     "name": "stderr",
     "output_type": "stream",
     "text": [
      "[Parallel(n_jobs=1)]: Done   1 out of   1 | elapsed:    3.6s remaining:    0.0s\n"
     ]
    },
    {
     "name": "stdout",
     "output_type": "stream",
     "text": [
      "[CV]  max_features=17, min_samples_leaf=2, n_estimators=110, total=   3.7s\n",
      "[CV] max_features=17, min_samples_leaf=2, n_estimators=110 ...........\n",
      "[CV]  max_features=17, min_samples_leaf=2, n_estimators=110, total=   3.7s\n",
      "[CV] max_features=17, min_samples_leaf=2, n_estimators=115 ...........\n",
      "[CV]  max_features=17, min_samples_leaf=2, n_estimators=115, total=   3.7s\n",
      "[CV] max_features=17, min_samples_leaf=2, n_estimators=115 ...........\n",
      "[CV]  max_features=17, min_samples_leaf=2, n_estimators=115, total=   3.7s\n",
      "[CV] max_features=17, min_samples_leaf=2, n_estimators=115 ...........\n",
      "[CV]  max_features=17, min_samples_leaf=2, n_estimators=115, total=   3.7s\n",
      "[CV] max_features=17, min_samples_leaf=2, n_estimators=118 ...........\n",
      "[CV]  max_features=17, min_samples_leaf=2, n_estimators=118, total=   4.0s\n",
      "[CV] max_features=17, min_samples_leaf=2, n_estimators=118 ...........\n",
      "[CV]  max_features=17, min_samples_leaf=2, n_estimators=118, total=   3.8s\n",
      "[CV] max_features=17, min_samples_leaf=2, n_estimators=118 ...........\n",
      "[CV]  max_features=17, min_samples_leaf=2, n_estimators=118, total=   3.9s\n",
      "[CV] max_features=17, min_samples_leaf=2, n_estimators=120 ...........\n",
      "[CV]  max_features=17, min_samples_leaf=2, n_estimators=120, total=   3.9s\n",
      "[CV] max_features=17, min_samples_leaf=2, n_estimators=120 ...........\n",
      "[CV]  max_features=17, min_samples_leaf=2, n_estimators=120, total=   4.1s\n",
      "[CV] max_features=17, min_samples_leaf=2, n_estimators=120 ...........\n",
      "[CV]  max_features=17, min_samples_leaf=2, n_estimators=120, total=   3.9s\n",
      "[CV] max_features=17, min_samples_leaf=3, n_estimators=110 ...........\n",
      "[CV]  max_features=17, min_samples_leaf=3, n_estimators=110, total=   3.4s\n",
      "[CV] max_features=17, min_samples_leaf=3, n_estimators=110 ...........\n",
      "[CV]  max_features=17, min_samples_leaf=3, n_estimators=110, total=   3.4s\n",
      "[CV] max_features=17, min_samples_leaf=3, n_estimators=110 ...........\n",
      "[CV]  max_features=17, min_samples_leaf=3, n_estimators=110, total=   3.4s\n",
      "[CV] max_features=17, min_samples_leaf=3, n_estimators=115 ...........\n",
      "[CV]  max_features=17, min_samples_leaf=3, n_estimators=115, total=   3.5s\n",
      "[CV] max_features=17, min_samples_leaf=3, n_estimators=115 ...........\n",
      "[CV]  max_features=17, min_samples_leaf=3, n_estimators=115, total=   3.5s\n",
      "[CV] max_features=17, min_samples_leaf=3, n_estimators=115 ...........\n",
      "[CV]  max_features=17, min_samples_leaf=3, n_estimators=115, total=   3.6s\n",
      "[CV] max_features=17, min_samples_leaf=3, n_estimators=118 ...........\n",
      "[CV]  max_features=17, min_samples_leaf=3, n_estimators=118, total=   3.7s\n",
      "[CV] max_features=17, min_samples_leaf=3, n_estimators=118 ...........\n",
      "[CV]  max_features=17, min_samples_leaf=3, n_estimators=118, total=   3.5s\n",
      "[CV] max_features=17, min_samples_leaf=3, n_estimators=118 ...........\n",
      "[CV]  max_features=17, min_samples_leaf=3, n_estimators=118, total=   3.6s\n",
      "[CV] max_features=17, min_samples_leaf=3, n_estimators=120 ...........\n",
      "[CV]  max_features=17, min_samples_leaf=3, n_estimators=120, total=   3.9s\n",
      "[CV] max_features=17, min_samples_leaf=3, n_estimators=120 ...........\n",
      "[CV]  max_features=17, min_samples_leaf=3, n_estimators=120, total=   3.8s\n",
      "[CV] max_features=17, min_samples_leaf=3, n_estimators=120 ...........\n",
      "[CV]  max_features=17, min_samples_leaf=3, n_estimators=120, total=   3.9s\n",
      "[CV] max_features=17, min_samples_leaf=4, n_estimators=110 ...........\n",
      "[CV]  max_features=17, min_samples_leaf=4, n_estimators=110, total=   3.3s\n",
      "[CV] max_features=17, min_samples_leaf=4, n_estimators=110 ...........\n",
      "[CV]  max_features=17, min_samples_leaf=4, n_estimators=110, total=   3.4s\n",
      "[CV] max_features=17, min_samples_leaf=4, n_estimators=110 ...........\n",
      "[CV]  max_features=17, min_samples_leaf=4, n_estimators=110, total=   3.9s\n",
      "[CV] max_features=17, min_samples_leaf=4, n_estimators=115 ...........\n",
      "[CV]  max_features=17, min_samples_leaf=4, n_estimators=115, total=   3.7s\n",
      "[CV] max_features=17, min_samples_leaf=4, n_estimators=115 ...........\n",
      "[CV]  max_features=17, min_samples_leaf=4, n_estimators=115, total=   3.5s\n",
      "[CV] max_features=17, min_samples_leaf=4, n_estimators=115 ...........\n",
      "[CV]  max_features=17, min_samples_leaf=4, n_estimators=115, total=   3.6s\n",
      "[CV] max_features=17, min_samples_leaf=4, n_estimators=118 ...........\n",
      "[CV]  max_features=17, min_samples_leaf=4, n_estimators=118, total=   3.6s\n",
      "[CV] max_features=17, min_samples_leaf=4, n_estimators=118 ...........\n",
      "[CV]  max_features=17, min_samples_leaf=4, n_estimators=118, total=   4.0s\n",
      "[CV] max_features=17, min_samples_leaf=4, n_estimators=118 ...........\n",
      "[CV]  max_features=17, min_samples_leaf=4, n_estimators=118, total=   3.6s\n",
      "[CV] max_features=17, min_samples_leaf=4, n_estimators=120 ...........\n",
      "[CV]  max_features=17, min_samples_leaf=4, n_estimators=120, total=   3.9s\n",
      "[CV] max_features=17, min_samples_leaf=4, n_estimators=120 ...........\n",
      "[CV]  max_features=17, min_samples_leaf=4, n_estimators=120, total=   4.0s\n",
      "[CV] max_features=17, min_samples_leaf=4, n_estimators=120 ...........\n",
      "[CV]  max_features=17, min_samples_leaf=4, n_estimators=120, total=   3.7s\n",
      "[CV] max_features=17, min_samples_leaf=5, n_estimators=110 ...........\n",
      "[CV]  max_features=17, min_samples_leaf=5, n_estimators=110, total=   3.2s\n",
      "[CV] max_features=17, min_samples_leaf=5, n_estimators=110 ...........\n",
      "[CV]  max_features=17, min_samples_leaf=5, n_estimators=110, total=   3.4s\n",
      "[CV] max_features=17, min_samples_leaf=5, n_estimators=110 ...........\n",
      "[CV]  max_features=17, min_samples_leaf=5, n_estimators=110, total=   3.3s\n",
      "[CV] max_features=17, min_samples_leaf=5, n_estimators=115 ...........\n",
      "[CV]  max_features=17, min_samples_leaf=5, n_estimators=115, total=   3.3s\n",
      "[CV] max_features=17, min_samples_leaf=5, n_estimators=115 ...........\n",
      "[CV]  max_features=17, min_samples_leaf=5, n_estimators=115, total=   3.5s\n",
      "[CV] max_features=17, min_samples_leaf=5, n_estimators=115 ...........\n",
      "[CV]  max_features=17, min_samples_leaf=5, n_estimators=115, total=   3.3s\n",
      "[CV] max_features=17, min_samples_leaf=5, n_estimators=118 ...........\n",
      "[CV]  max_features=17, min_samples_leaf=5, n_estimators=118, total=   3.3s\n",
      "[CV] max_features=17, min_samples_leaf=5, n_estimators=118 ...........\n",
      "[CV]  max_features=17, min_samples_leaf=5, n_estimators=118, total=   3.4s\n",
      "[CV] max_features=17, min_samples_leaf=5, n_estimators=118 ...........\n",
      "[CV]  max_features=17, min_samples_leaf=5, n_estimators=118, total=   3.4s\n",
      "[CV] max_features=17, min_samples_leaf=5, n_estimators=120 ...........\n",
      "[CV]  max_features=17, min_samples_leaf=5, n_estimators=120, total=   3.4s\n",
      "[CV] max_features=17, min_samples_leaf=5, n_estimators=120 ...........\n",
      "[CV]  max_features=17, min_samples_leaf=5, n_estimators=120, total=   3.4s\n",
      "[CV] max_features=17, min_samples_leaf=5, n_estimators=120 ...........\n",
      "[CV]  max_features=17, min_samples_leaf=5, n_estimators=120, total=   3.4s\n",
      "[CV] max_features=18, min_samples_leaf=2, n_estimators=110 ...........\n",
      "[CV]  max_features=18, min_samples_leaf=2, n_estimators=110, total=   3.7s\n",
      "[CV] max_features=18, min_samples_leaf=2, n_estimators=110 ...........\n",
      "[CV]  max_features=18, min_samples_leaf=2, n_estimators=110, total=   3.6s\n",
      "[CV] max_features=18, min_samples_leaf=2, n_estimators=110 ...........\n",
      "[CV]  max_features=18, min_samples_leaf=2, n_estimators=110, total=   3.7s\n",
      "[CV] max_features=18, min_samples_leaf=2, n_estimators=115 ...........\n",
      "[CV]  max_features=18, min_samples_leaf=2, n_estimators=115, total=   3.9s\n",
      "[CV] max_features=18, min_samples_leaf=2, n_estimators=115 ...........\n",
      "[CV]  max_features=18, min_samples_leaf=2, n_estimators=115, total=   3.8s\n",
      "[CV] max_features=18, min_samples_leaf=2, n_estimators=115 ...........\n",
      "[CV]  max_features=18, min_samples_leaf=2, n_estimators=115, total=   3.9s\n",
      "[CV] max_features=18, min_samples_leaf=2, n_estimators=118 ...........\n",
      "[CV]  max_features=18, min_samples_leaf=2, n_estimators=118, total=   3.8s\n",
      "[CV] max_features=18, min_samples_leaf=2, n_estimators=118 ...........\n",
      "[CV]  max_features=18, min_samples_leaf=2, n_estimators=118, total=   3.9s\n",
      "[CV] max_features=18, min_samples_leaf=2, n_estimators=118 ...........\n",
      "[CV]  max_features=18, min_samples_leaf=2, n_estimators=118, total=   3.9s\n",
      "[CV] max_features=18, min_samples_leaf=2, n_estimators=120 ...........\n",
      "[CV]  max_features=18, min_samples_leaf=2, n_estimators=120, total=   3.9s\n",
      "[CV] max_features=18, min_samples_leaf=2, n_estimators=120 ...........\n"
     ]
    },
    {
     "name": "stdout",
     "output_type": "stream",
     "text": [
      "[CV]  max_features=18, min_samples_leaf=2, n_estimators=120, total=   4.0s\n",
      "[CV] max_features=18, min_samples_leaf=2, n_estimators=120 ...........\n",
      "[CV]  max_features=18, min_samples_leaf=2, n_estimators=120, total=   4.1s\n",
      "[CV] max_features=18, min_samples_leaf=3, n_estimators=110 ...........\n",
      "[CV]  max_features=18, min_samples_leaf=3, n_estimators=110, total=   3.5s\n",
      "[CV] max_features=18, min_samples_leaf=3, n_estimators=110 ...........\n",
      "[CV]  max_features=18, min_samples_leaf=3, n_estimators=110, total=   3.6s\n",
      "[CV] max_features=18, min_samples_leaf=3, n_estimators=110 ...........\n",
      "[CV]  max_features=18, min_samples_leaf=3, n_estimators=110, total=   3.5s\n",
      "[CV] max_features=18, min_samples_leaf=3, n_estimators=115 ...........\n",
      "[CV]  max_features=18, min_samples_leaf=3, n_estimators=115, total=   3.6s\n",
      "[CV] max_features=18, min_samples_leaf=3, n_estimators=115 ...........\n",
      "[CV]  max_features=18, min_samples_leaf=3, n_estimators=115, total=   3.6s\n",
      "[CV] max_features=18, min_samples_leaf=3, n_estimators=115 ...........\n",
      "[CV]  max_features=18, min_samples_leaf=3, n_estimators=115, total=   3.7s\n",
      "[CV] max_features=18, min_samples_leaf=3, n_estimators=118 ...........\n",
      "[CV]  max_features=18, min_samples_leaf=3, n_estimators=118, total=   3.7s\n",
      "[CV] max_features=18, min_samples_leaf=3, n_estimators=118 ...........\n",
      "[CV]  max_features=18, min_samples_leaf=3, n_estimators=118, total=   3.7s\n",
      "[CV] max_features=18, min_samples_leaf=3, n_estimators=118 ...........\n",
      "[CV]  max_features=18, min_samples_leaf=3, n_estimators=118, total=   3.8s\n",
      "[CV] max_features=18, min_samples_leaf=3, n_estimators=120 ...........\n",
      "[CV]  max_features=18, min_samples_leaf=3, n_estimators=120, total=   3.8s\n",
      "[CV] max_features=18, min_samples_leaf=3, n_estimators=120 ...........\n",
      "[CV]  max_features=18, min_samples_leaf=3, n_estimators=120, total=   3.8s\n",
      "[CV] max_features=18, min_samples_leaf=3, n_estimators=120 ...........\n",
      "[CV]  max_features=18, min_samples_leaf=3, n_estimators=120, total=   3.9s\n",
      "[CV] max_features=18, min_samples_leaf=4, n_estimators=110 ...........\n",
      "[CV]  max_features=18, min_samples_leaf=4, n_estimators=110, total=   3.4s\n",
      "[CV] max_features=18, min_samples_leaf=4, n_estimators=110 ...........\n",
      "[CV]  max_features=18, min_samples_leaf=4, n_estimators=110, total=   3.4s\n",
      "[CV] max_features=18, min_samples_leaf=4, n_estimators=110 ...........\n",
      "[CV]  max_features=18, min_samples_leaf=4, n_estimators=110, total=   3.4s\n",
      "[CV] max_features=18, min_samples_leaf=4, n_estimators=115 ...........\n",
      "[CV]  max_features=18, min_samples_leaf=4, n_estimators=115, total=   3.6s\n",
      "[CV] max_features=18, min_samples_leaf=4, n_estimators=115 ...........\n",
      "[CV]  max_features=18, min_samples_leaf=4, n_estimators=115, total=   3.5s\n",
      "[CV] max_features=18, min_samples_leaf=4, n_estimators=115 ...........\n",
      "[CV]  max_features=18, min_samples_leaf=4, n_estimators=115, total=   3.5s\n",
      "[CV] max_features=18, min_samples_leaf=4, n_estimators=118 ...........\n",
      "[CV]  max_features=18, min_samples_leaf=4, n_estimators=118, total=   3.6s\n",
      "[CV] max_features=18, min_samples_leaf=4, n_estimators=118 ...........\n",
      "[CV]  max_features=18, min_samples_leaf=4, n_estimators=118, total=   3.6s\n",
      "[CV] max_features=18, min_samples_leaf=4, n_estimators=118 ...........\n",
      "[CV]  max_features=18, min_samples_leaf=4, n_estimators=118, total=   3.6s\n",
      "[CV] max_features=18, min_samples_leaf=4, n_estimators=120 ...........\n",
      "[CV]  max_features=18, min_samples_leaf=4, n_estimators=120, total=   3.7s\n",
      "[CV] max_features=18, min_samples_leaf=4, n_estimators=120 ...........\n",
      "[CV]  max_features=18, min_samples_leaf=4, n_estimators=120, total=   3.6s\n",
      "[CV] max_features=18, min_samples_leaf=4, n_estimators=120 ...........\n",
      "[CV]  max_features=18, min_samples_leaf=4, n_estimators=120, total=   3.7s\n",
      "[CV] max_features=18, min_samples_leaf=5, n_estimators=110 ...........\n",
      "[CV]  max_features=18, min_samples_leaf=5, n_estimators=110, total=   3.2s\n",
      "[CV] max_features=18, min_samples_leaf=5, n_estimators=110 ...........\n",
      "[CV]  max_features=18, min_samples_leaf=5, n_estimators=110, total=   3.3s\n",
      "[CV] max_features=18, min_samples_leaf=5, n_estimators=110 ...........\n",
      "[CV]  max_features=18, min_samples_leaf=5, n_estimators=110, total=   3.2s\n",
      "[CV] max_features=18, min_samples_leaf=5, n_estimators=115 ...........\n",
      "[CV]  max_features=18, min_samples_leaf=5, n_estimators=115, total=   3.4s\n",
      "[CV] max_features=18, min_samples_leaf=5, n_estimators=115 ...........\n",
      "[CV]  max_features=18, min_samples_leaf=5, n_estimators=115, total=   3.4s\n",
      "[CV] max_features=18, min_samples_leaf=5, n_estimators=115 ...........\n",
      "[CV]  max_features=18, min_samples_leaf=5, n_estimators=115, total=   3.4s\n",
      "[CV] max_features=18, min_samples_leaf=5, n_estimators=118 ...........\n",
      "[CV]  max_features=18, min_samples_leaf=5, n_estimators=118, total=   3.4s\n",
      "[CV] max_features=18, min_samples_leaf=5, n_estimators=118 ...........\n",
      "[CV]  max_features=18, min_samples_leaf=5, n_estimators=118, total=   3.5s\n",
      "[CV] max_features=18, min_samples_leaf=5, n_estimators=118 ...........\n",
      "[CV]  max_features=18, min_samples_leaf=5, n_estimators=118, total=   3.5s\n",
      "[CV] max_features=18, min_samples_leaf=5, n_estimators=120 ...........\n",
      "[CV]  max_features=18, min_samples_leaf=5, n_estimators=120, total=   3.5s\n",
      "[CV] max_features=18, min_samples_leaf=5, n_estimators=120 ...........\n",
      "[CV]  max_features=18, min_samples_leaf=5, n_estimators=120, total=   3.5s\n",
      "[CV] max_features=18, min_samples_leaf=5, n_estimators=120 ...........\n",
      "[CV]  max_features=18, min_samples_leaf=5, n_estimators=120, total=   3.6s\n",
      "[CV] max_features=19, min_samples_leaf=2, n_estimators=110 ...........\n",
      "[CV]  max_features=19, min_samples_leaf=2, n_estimators=110, total=   3.8s\n",
      "[CV] max_features=19, min_samples_leaf=2, n_estimators=110 ...........\n",
      "[CV]  max_features=19, min_samples_leaf=2, n_estimators=110, total=   3.9s\n",
      "[CV] max_features=19, min_samples_leaf=2, n_estimators=110 ...........\n",
      "[CV]  max_features=19, min_samples_leaf=2, n_estimators=110, total=   3.8s\n",
      "[CV] max_features=19, min_samples_leaf=2, n_estimators=115 ...........\n",
      "[CV]  max_features=19, min_samples_leaf=2, n_estimators=115, total=   4.0s\n",
      "[CV] max_features=19, min_samples_leaf=2, n_estimators=115 ...........\n",
      "[CV]  max_features=19, min_samples_leaf=2, n_estimators=115, total=   4.0s\n",
      "[CV] max_features=19, min_samples_leaf=2, n_estimators=115 ...........\n",
      "[CV]  max_features=19, min_samples_leaf=2, n_estimators=115, total=   4.0s\n",
      "[CV] max_features=19, min_samples_leaf=2, n_estimators=118 ...........\n",
      "[CV]  max_features=19, min_samples_leaf=2, n_estimators=118, total=   4.0s\n",
      "[CV] max_features=19, min_samples_leaf=2, n_estimators=118 ...........\n",
      "[CV]  max_features=19, min_samples_leaf=2, n_estimators=118, total=   4.1s\n",
      "[CV] max_features=19, min_samples_leaf=2, n_estimators=118 ...........\n",
      "[CV]  max_features=19, min_samples_leaf=2, n_estimators=118, total=   4.0s\n",
      "[CV] max_features=19, min_samples_leaf=2, n_estimators=120 ...........\n",
      "[CV]  max_features=19, min_samples_leaf=2, n_estimators=120, total=   4.2s\n",
      "[CV] max_features=19, min_samples_leaf=2, n_estimators=120 ...........\n",
      "[CV]  max_features=19, min_samples_leaf=2, n_estimators=120, total=   4.1s\n",
      "[CV] max_features=19, min_samples_leaf=2, n_estimators=120 ...........\n",
      "[CV]  max_features=19, min_samples_leaf=2, n_estimators=120, total=   4.2s\n",
      "[CV] max_features=19, min_samples_leaf=3, n_estimators=110 ...........\n",
      "[CV]  max_features=19, min_samples_leaf=3, n_estimators=110, total=   3.7s\n",
      "[CV] max_features=19, min_samples_leaf=3, n_estimators=110 ...........\n",
      "[CV]  max_features=19, min_samples_leaf=3, n_estimators=110, total=   3.6s\n",
      "[CV] max_features=19, min_samples_leaf=3, n_estimators=110 ...........\n",
      "[CV]  max_features=19, min_samples_leaf=3, n_estimators=110, total=   3.6s\n",
      "[CV] max_features=19, min_samples_leaf=3, n_estimators=115 ...........\n",
      "[CV]  max_features=19, min_samples_leaf=3, n_estimators=115, total=   3.8s\n",
      "[CV] max_features=19, min_samples_leaf=3, n_estimators=115 ...........\n",
      "[CV]  max_features=19, min_samples_leaf=3, n_estimators=115, total=   3.8s\n",
      "[CV] max_features=19, min_samples_leaf=3, n_estimators=115 ...........\n",
      "[CV]  max_features=19, min_samples_leaf=3, n_estimators=115, total=   3.8s\n",
      "[CV] max_features=19, min_samples_leaf=3, n_estimators=118 ...........\n",
      "[CV]  max_features=19, min_samples_leaf=3, n_estimators=118, total=   3.8s\n",
      "[CV] max_features=19, min_samples_leaf=3, n_estimators=118 ...........\n"
     ]
    },
    {
     "name": "stdout",
     "output_type": "stream",
     "text": [
      "[CV]  max_features=19, min_samples_leaf=3, n_estimators=118, total=   4.0s\n",
      "[CV] max_features=19, min_samples_leaf=3, n_estimators=118 ...........\n",
      "[CV]  max_features=19, min_samples_leaf=3, n_estimators=118, total=   3.9s\n",
      "[CV] max_features=19, min_samples_leaf=3, n_estimators=120 ...........\n",
      "[CV]  max_features=19, min_samples_leaf=3, n_estimators=120, total=   3.9s\n",
      "[CV] max_features=19, min_samples_leaf=3, n_estimators=120 ...........\n",
      "[CV]  max_features=19, min_samples_leaf=3, n_estimators=120, total=   3.9s\n",
      "[CV] max_features=19, min_samples_leaf=3, n_estimators=120 ...........\n",
      "[CV]  max_features=19, min_samples_leaf=3, n_estimators=120, total=   4.0s\n",
      "[CV] max_features=19, min_samples_leaf=4, n_estimators=110 ...........\n",
      "[CV]  max_features=19, min_samples_leaf=4, n_estimators=110, total=   3.5s\n",
      "[CV] max_features=19, min_samples_leaf=4, n_estimators=110 ...........\n",
      "[CV]  max_features=19, min_samples_leaf=4, n_estimators=110, total=   3.5s\n",
      "[CV] max_features=19, min_samples_leaf=4, n_estimators=110 ...........\n",
      "[CV]  max_features=19, min_samples_leaf=4, n_estimators=110, total=   3.5s\n",
      "[CV] max_features=19, min_samples_leaf=4, n_estimators=115 ...........\n",
      "[CV]  max_features=19, min_samples_leaf=4, n_estimators=115, total=   3.6s\n",
      "[CV] max_features=19, min_samples_leaf=4, n_estimators=115 ...........\n",
      "[CV]  max_features=19, min_samples_leaf=4, n_estimators=115, total=   3.7s\n",
      "[CV] max_features=19, min_samples_leaf=4, n_estimators=115 ...........\n",
      "[CV]  max_features=19, min_samples_leaf=4, n_estimators=115, total=   3.6s\n",
      "[CV] max_features=19, min_samples_leaf=4, n_estimators=118 ...........\n",
      "[CV]  max_features=19, min_samples_leaf=4, n_estimators=118, total=   3.7s\n",
      "[CV] max_features=19, min_samples_leaf=4, n_estimators=118 ...........\n",
      "[CV]  max_features=19, min_samples_leaf=4, n_estimators=118, total=   3.8s\n",
      "[CV] max_features=19, min_samples_leaf=4, n_estimators=118 ...........\n",
      "[CV]  max_features=19, min_samples_leaf=4, n_estimators=118, total=   3.8s\n",
      "[CV] max_features=19, min_samples_leaf=4, n_estimators=120 ...........\n",
      "[CV]  max_features=19, min_samples_leaf=4, n_estimators=120, total=   3.9s\n",
      "[CV] max_features=19, min_samples_leaf=4, n_estimators=120 ...........\n",
      "[CV]  max_features=19, min_samples_leaf=4, n_estimators=120, total=   3.9s\n",
      "[CV] max_features=19, min_samples_leaf=4, n_estimators=120 ...........\n",
      "[CV]  max_features=19, min_samples_leaf=4, n_estimators=120, total=   3.9s\n",
      "[CV] max_features=19, min_samples_leaf=5, n_estimators=110 ...........\n",
      "[CV]  max_features=19, min_samples_leaf=5, n_estimators=110, total=   3.4s\n",
      "[CV] max_features=19, min_samples_leaf=5, n_estimators=110 ...........\n",
      "[CV]  max_features=19, min_samples_leaf=5, n_estimators=110, total=   3.4s\n",
      "[CV] max_features=19, min_samples_leaf=5, n_estimators=110 ...........\n",
      "[CV]  max_features=19, min_samples_leaf=5, n_estimators=110, total=   3.4s\n",
      "[CV] max_features=19, min_samples_leaf=5, n_estimators=115 ...........\n",
      "[CV]  max_features=19, min_samples_leaf=5, n_estimators=115, total=   3.6s\n",
      "[CV] max_features=19, min_samples_leaf=5, n_estimators=115 ...........\n",
      "[CV]  max_features=19, min_samples_leaf=5, n_estimators=115, total=   3.6s\n",
      "[CV] max_features=19, min_samples_leaf=5, n_estimators=115 ...........\n",
      "[CV]  max_features=19, min_samples_leaf=5, n_estimators=115, total=   3.5s\n",
      "[CV] max_features=19, min_samples_leaf=5, n_estimators=118 ...........\n",
      "[CV]  max_features=19, min_samples_leaf=5, n_estimators=118, total=   3.6s\n",
      "[CV] max_features=19, min_samples_leaf=5, n_estimators=118 ...........\n",
      "[CV]  max_features=19, min_samples_leaf=5, n_estimators=118, total=   3.8s\n",
      "[CV] max_features=19, min_samples_leaf=5, n_estimators=118 ...........\n",
      "[CV]  max_features=19, min_samples_leaf=5, n_estimators=118, total=   3.7s\n",
      "[CV] max_features=19, min_samples_leaf=5, n_estimators=120 ...........\n",
      "[CV]  max_features=19, min_samples_leaf=5, n_estimators=120, total=   3.7s\n",
      "[CV] max_features=19, min_samples_leaf=5, n_estimators=120 ...........\n",
      "[CV]  max_features=19, min_samples_leaf=5, n_estimators=120, total=   3.7s\n",
      "[CV] max_features=19, min_samples_leaf=5, n_estimators=120 ...........\n",
      "[CV]  max_features=19, min_samples_leaf=5, n_estimators=120, total=   3.8s\n",
      "[CV] max_features=20, min_samples_leaf=2, n_estimators=110 ...........\n",
      "[CV]  max_features=20, min_samples_leaf=2, n_estimators=110, total=   4.0s\n",
      "[CV] max_features=20, min_samples_leaf=2, n_estimators=110 ...........\n",
      "[CV]  max_features=20, min_samples_leaf=2, n_estimators=110, total=   3.9s\n",
      "[CV] max_features=20, min_samples_leaf=2, n_estimators=110 ...........\n",
      "[CV]  max_features=20, min_samples_leaf=2, n_estimators=110, total=   3.9s\n",
      "[CV] max_features=20, min_samples_leaf=2, n_estimators=115 ...........\n",
      "[CV]  max_features=20, min_samples_leaf=2, n_estimators=115, total=   4.1s\n",
      "[CV] max_features=20, min_samples_leaf=2, n_estimators=115 ...........\n",
      "[CV]  max_features=20, min_samples_leaf=2, n_estimators=115, total=   4.1s\n",
      "[CV] max_features=20, min_samples_leaf=2, n_estimators=115 ...........\n",
      "[CV]  max_features=20, min_samples_leaf=2, n_estimators=115, total=   4.2s\n",
      "[CV] max_features=20, min_samples_leaf=2, n_estimators=118 ...........\n",
      "[CV]  max_features=20, min_samples_leaf=2, n_estimators=118, total=   4.2s\n",
      "[CV] max_features=20, min_samples_leaf=2, n_estimators=118 ...........\n",
      "[CV]  max_features=20, min_samples_leaf=2, n_estimators=118, total=   4.2s\n",
      "[CV] max_features=20, min_samples_leaf=2, n_estimators=118 ...........\n",
      "[CV]  max_features=20, min_samples_leaf=2, n_estimators=118, total=   4.2s\n",
      "[CV] max_features=20, min_samples_leaf=2, n_estimators=120 ...........\n",
      "[CV]  max_features=20, min_samples_leaf=2, n_estimators=120, total=   4.3s\n",
      "[CV] max_features=20, min_samples_leaf=2, n_estimators=120 ...........\n",
      "[CV]  max_features=20, min_samples_leaf=2, n_estimators=120, total=   4.3s\n",
      "[CV] max_features=20, min_samples_leaf=2, n_estimators=120 ...........\n",
      "[CV]  max_features=20, min_samples_leaf=2, n_estimators=120, total=   4.3s\n",
      "[CV] max_features=20, min_samples_leaf=3, n_estimators=110 ...........\n",
      "[CV]  max_features=20, min_samples_leaf=3, n_estimators=110, total=   3.7s\n",
      "[CV] max_features=20, min_samples_leaf=3, n_estimators=110 ...........\n",
      "[CV]  max_features=20, min_samples_leaf=3, n_estimators=110, total=   3.8s\n",
      "[CV] max_features=20, min_samples_leaf=3, n_estimators=110 ...........\n",
      "[CV]  max_features=20, min_samples_leaf=3, n_estimators=110, total=   3.7s\n",
      "[CV] max_features=20, min_samples_leaf=3, n_estimators=115 ...........\n",
      "[CV]  max_features=20, min_samples_leaf=3, n_estimators=115, total=   4.0s\n",
      "[CV] max_features=20, min_samples_leaf=3, n_estimators=115 ...........\n",
      "[CV]  max_features=20, min_samples_leaf=3, n_estimators=115, total=   3.9s\n",
      "[CV] max_features=20, min_samples_leaf=3, n_estimators=115 ...........\n",
      "[CV]  max_features=20, min_samples_leaf=3, n_estimators=115, total=   3.9s\n",
      "[CV] max_features=20, min_samples_leaf=3, n_estimators=118 ...........\n",
      "[CV]  max_features=20, min_samples_leaf=3, n_estimators=118, total=   4.0s\n",
      "[CV] max_features=20, min_samples_leaf=3, n_estimators=118 ...........\n",
      "[CV]  max_features=20, min_samples_leaf=3, n_estimators=118, total=   4.0s\n",
      "[CV] max_features=20, min_samples_leaf=3, n_estimators=118 ...........\n",
      "[CV]  max_features=20, min_samples_leaf=3, n_estimators=118, total=   4.0s\n",
      "[CV] max_features=20, min_samples_leaf=3, n_estimators=120 ...........\n",
      "[CV]  max_features=20, min_samples_leaf=3, n_estimators=120, total=   4.1s\n",
      "[CV] max_features=20, min_samples_leaf=3, n_estimators=120 ...........\n",
      "[CV]  max_features=20, min_samples_leaf=3, n_estimators=120, total=   4.1s\n",
      "[CV] max_features=20, min_samples_leaf=3, n_estimators=120 ...........\n",
      "[CV]  max_features=20, min_samples_leaf=3, n_estimators=120, total=   4.1s\n",
      "[CV] max_features=20, min_samples_leaf=4, n_estimators=110 ...........\n",
      "[CV]  max_features=20, min_samples_leaf=4, n_estimators=110, total=   3.6s\n",
      "[CV] max_features=20, min_samples_leaf=4, n_estimators=110 ...........\n",
      "[CV]  max_features=20, min_samples_leaf=4, n_estimators=110, total=   3.6s\n",
      "[CV] max_features=20, min_samples_leaf=4, n_estimators=110 ...........\n",
      "[CV]  max_features=20, min_samples_leaf=4, n_estimators=110, total=   3.6s\n",
      "[CV] max_features=20, min_samples_leaf=4, n_estimators=115 ...........\n",
      "[CV]  max_features=20, min_samples_leaf=4, n_estimators=115, total=   3.8s\n",
      "[CV] max_features=20, min_samples_leaf=4, n_estimators=115 ...........\n"
     ]
    },
    {
     "name": "stdout",
     "output_type": "stream",
     "text": [
      "[CV]  max_features=20, min_samples_leaf=4, n_estimators=115, total=   3.9s\n",
      "[CV] max_features=20, min_samples_leaf=4, n_estimators=115 ...........\n",
      "[CV]  max_features=20, min_samples_leaf=4, n_estimators=115, total=   3.8s\n",
      "[CV] max_features=20, min_samples_leaf=4, n_estimators=118 ...........\n",
      "[CV]  max_features=20, min_samples_leaf=4, n_estimators=118, total=   3.9s\n",
      "[CV] max_features=20, min_samples_leaf=4, n_estimators=118 ...........\n",
      "[CV]  max_features=20, min_samples_leaf=4, n_estimators=118, total=   3.9s\n",
      "[CV] max_features=20, min_samples_leaf=4, n_estimators=118 ...........\n",
      "[CV]  max_features=20, min_samples_leaf=4, n_estimators=118, total=   3.9s\n",
      "[CV] max_features=20, min_samples_leaf=4, n_estimators=120 ...........\n",
      "[CV]  max_features=20, min_samples_leaf=4, n_estimators=120, total=   3.9s\n",
      "[CV] max_features=20, min_samples_leaf=4, n_estimators=120 ...........\n",
      "[CV]  max_features=20, min_samples_leaf=4, n_estimators=120, total=   4.0s\n",
      "[CV] max_features=20, min_samples_leaf=4, n_estimators=120 ...........\n",
      "[CV]  max_features=20, min_samples_leaf=4, n_estimators=120, total=   4.0s\n",
      "[CV] max_features=20, min_samples_leaf=5, n_estimators=110 ...........\n",
      "[CV]  max_features=20, min_samples_leaf=5, n_estimators=110, total=   3.5s\n",
      "[CV] max_features=20, min_samples_leaf=5, n_estimators=110 ...........\n",
      "[CV]  max_features=20, min_samples_leaf=5, n_estimators=110, total=   3.5s\n",
      "[CV] max_features=20, min_samples_leaf=5, n_estimators=110 ...........\n",
      "[CV]  max_features=20, min_samples_leaf=5, n_estimators=110, total=   3.5s\n",
      "[CV] max_features=20, min_samples_leaf=5, n_estimators=115 ...........\n",
      "[CV]  max_features=20, min_samples_leaf=5, n_estimators=115, total=   3.8s\n",
      "[CV] max_features=20, min_samples_leaf=5, n_estimators=115 ...........\n",
      "[CV]  max_features=20, min_samples_leaf=5, n_estimators=115, total=   3.7s\n",
      "[CV] max_features=20, min_samples_leaf=5, n_estimators=115 ...........\n",
      "[CV]  max_features=20, min_samples_leaf=5, n_estimators=115, total=   3.7s\n",
      "[CV] max_features=20, min_samples_leaf=5, n_estimators=118 ...........\n",
      "[CV]  max_features=20, min_samples_leaf=5, n_estimators=118, total=   3.7s\n",
      "[CV] max_features=20, min_samples_leaf=5, n_estimators=118 ...........\n",
      "[CV]  max_features=20, min_samples_leaf=5, n_estimators=118, total=   3.8s\n",
      "[CV] max_features=20, min_samples_leaf=5, n_estimators=118 ...........\n",
      "[CV]  max_features=20, min_samples_leaf=5, n_estimators=118, total=   3.8s\n",
      "[CV] max_features=20, min_samples_leaf=5, n_estimators=120 ...........\n",
      "[CV]  max_features=20, min_samples_leaf=5, n_estimators=120, total=   3.8s\n",
      "[CV] max_features=20, min_samples_leaf=5, n_estimators=120 ...........\n",
      "[CV]  max_features=20, min_samples_leaf=5, n_estimators=120, total=   3.9s\n",
      "[CV] max_features=20, min_samples_leaf=5, n_estimators=120 ...........\n",
      "[CV]  max_features=20, min_samples_leaf=5, n_estimators=120, total=   3.9s\n"
     ]
    },
    {
     "name": "stderr",
     "output_type": "stream",
     "text": [
      "[Parallel(n_jobs=1)]: Done 192 out of 192 | elapsed: 12.0min finished\n"
     ]
    },
    {
     "name": "stdout",
     "output_type": "stream",
     "text": [
      "Best 86.42548717373462\n",
      "params {'max_features': 17, 'min_samples_leaf': 4, 'n_estimators': 115}\n"
     ]
    }
   ],
   "source": [
    "clf=RandomForestClassifier()\n",
    "kf=KFold(n_splits=3)\n",
    "max_features=np.array([17, 18, 19, 20])\n",
    "n_estimators=np.array([110,115,118,120])\n",
    "min_samples_leaf=np.array([2,3,4,5])\n",
    "#max_depth = np.array([1,2,4,8,10])\n",
    "param_grid=dict(n_estimators=n_estimators,max_features=max_features,min_samples_leaf=min_samples_leaf)\n",
    "grid=GridSearchCV(estimator=clf,param_grid=param_grid,cv=kf,verbose = 2)\n",
    "gres=grid.fit(X_train_o,y_train_o)\n",
    "print(\"Best\",(gres.best_score_)*100)\n",
    "print(\"params\",gres.best_params_)"
   ]
  },
  {
   "cell_type": "markdown",
   "metadata": {},
   "source": [
    "### --------------------------------------------------------------------"
   ]
  }
 ],
 "metadata": {
  "kernelspec": {
   "display_name": "Python 3",
   "language": "python",
   "name": "python3"
  },
  "language_info": {
   "codemirror_mode": {
    "name": "ipython",
    "version": 3
   },
   "file_extension": ".py",
   "mimetype": "text/x-python",
   "name": "python",
   "nbconvert_exporter": "python",
   "pygments_lexer": "ipython3",
   "version": "3.8.5"
  }
 },
 "nbformat": 4,
 "nbformat_minor": 4
}
